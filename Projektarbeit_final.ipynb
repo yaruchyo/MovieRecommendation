{
 "cells": [
  {
   "cell_type": "markdown",
   "metadata": {},
   "source": [
    "# Inhaltsbasiertes Empfehlungssystem für Netflix-Filme"
   ]
  },
  {
   "cell_type": "markdown",
   "metadata": {},
   "source": [
    "**Gruppe 1:** <br>\n",
    "Theen, Johannes (TH München)<br>\n",
    "Utz, Elisabeth (OTH Amberg-Weiden)<br>\n",
    "Yaruchyk, Oleg (TH München)"
   ]
  },
  {
   "cell_type": "markdown",
   "metadata": {},
   "source": [
    "## 1. Import von Bibliotheken, Klassen und Funktionen"
   ]
  },
  {
   "cell_type": "code",
   "execution_count": 1,
   "metadata": {},
   "outputs": [
    {
     "name": "stderr",
     "output_type": "stream",
     "text": [
      "[nltk_data] Downloading package stopwords to /home/sotpak/nltk_data...\n",
      "[nltk_data]   Package stopwords is already up-to-date!\n"
     ]
    },
    {
     "data": {
      "text/plain": "True"
     },
     "execution_count": 1,
     "metadata": {},
     "output_type": "execute_result"
    }
   ],
   "source": [
    "import pandas as pd\n",
    "import numpy as np\n",
    "import string\n",
    "# Vektorisierung\n",
    "from sklearn.feature_extraction.text import CountVectorizer\n",
    "from sklearn.feature_extraction.text import TfidfVectorizer\n",
    "from nltk.corpus import stopwords\n",
    "# Dimensionsreduktion\n",
    "from scipy import sparse\n",
    "from sklearn.preprocessing import MaxAbsScaler\n",
    "from sklearn.decomposition import TruncatedSVD\n",
    "# Ähnlichkeitsberechnung\n",
    "from sklearn.metrics.pairwise import cosine_similarity\n",
    "from sklearn.metrics.pairwise import sigmoid_kernel\n",
    "from sklearn.metrics.pairwise import linear_kernel\n",
    "from sklearn.metrics.pairwise import polynomial_kernel\n",
    "from sklearn.metrics.pairwise import rbf_kernel\n",
    "from sklearn.metrics.pairwise import laplacian_kernel\n",
    "import nltk\n",
    "nltk.download('stopwords')"
   ]
  },
  {
   "cell_type": "markdown",
   "metadata": {},
   "source": [
    "## 2. Einlesen und Analyse der Datenbank\n",
    "Die Datenbank besteht aus 12 Spalten und 6.234 Zeilen. Anhand der Spalte \"director\" ist bereits zu erkennen, dass manche Zellen den Wert \"NaN\" enthalten. Die Zeile \"count\" in der anschließenden Ansicht macht noch einmal deutlich, dass nicht alle Spalten über 6.234 Einträge verfügen."
   ]
  },
  {
   "cell_type": "code",
   "execution_count": 2,
   "metadata": {},
   "outputs": [
    {
     "name": "stdout",
     "output_type": "stream",
     "text": [
      "(6234, 12)\n"
     ]
    },
    {
     "data": {
      "text/plain": "    show_id     type                                    title  \\\n0  81145628    Movie  Norm of the North: King Sized Adventure   \n1  80117401    Movie               Jandino: Whatever it Takes   \n2  70234439  TV Show                       Transformers Prime   \n3  80058654  TV Show         Transformers: Robots in Disguise   \n4  80125979    Movie                             #realityhigh   \n\n                   director  \\\n0  Richard Finn, Tim Maltby   \n1                       NaN   \n2                       NaN   \n3                       NaN   \n4          Fernando Lebrija   \n\n                                                cast  \\\n0  Alan Marriott, Andrew Toth, Brian Dobson, Cole...   \n1                                   Jandino Asporaat   \n2  Peter Cullen, Sumalee Montano, Frank Welker, J...   \n3  Will Friedle, Darren Criss, Constance Zimmer, ...   \n4  Nesta Cooper, Kate Walsh, John Michael Higgins...   \n\n                                    country         date_added  release_year  \\\n0  United States, India, South Korea, China  September 9, 2019          2019   \n1                            United Kingdom  September 9, 2016          2016   \n2                             United States  September 8, 2018          2013   \n3                             United States  September 8, 2018          2016   \n4                             United States  September 8, 2017          2017   \n\n     rating  duration                           listed_in  \\\n0     TV-PG    90 min  Children & Family Movies, Comedies   \n1     TV-MA    94 min                     Stand-Up Comedy   \n2  TV-Y7-FV  1 Season                            Kids' TV   \n3     TV-Y7  1 Season                            Kids' TV   \n4     TV-14    99 min                            Comedies   \n\n                                         description  \n0  Before planning an awesome wedding for his gra...  \n1  Jandino Asporaat riffs on the challenges of ra...  \n2  With the help of three human allies, the Autob...  \n3  When a prison ship crash unleashes hundreds of...  \n4  When nerdy high schooler Dani finally attracts...  ",
      "text/html": "<div>\n<style scoped>\n    .dataframe tbody tr th:only-of-type {\n        vertical-align: middle;\n    }\n\n    .dataframe tbody tr th {\n        vertical-align: top;\n    }\n\n    .dataframe thead th {\n        text-align: right;\n    }\n</style>\n<table border=\"1\" class=\"dataframe\">\n  <thead>\n    <tr style=\"text-align: right;\">\n      <th></th>\n      <th>show_id</th>\n      <th>type</th>\n      <th>title</th>\n      <th>director</th>\n      <th>cast</th>\n      <th>country</th>\n      <th>date_added</th>\n      <th>release_year</th>\n      <th>rating</th>\n      <th>duration</th>\n      <th>listed_in</th>\n      <th>description</th>\n    </tr>\n  </thead>\n  <tbody>\n    <tr>\n      <th>0</th>\n      <td>81145628</td>\n      <td>Movie</td>\n      <td>Norm of the North: King Sized Adventure</td>\n      <td>Richard Finn, Tim Maltby</td>\n      <td>Alan Marriott, Andrew Toth, Brian Dobson, Cole...</td>\n      <td>United States, India, South Korea, China</td>\n      <td>September 9, 2019</td>\n      <td>2019</td>\n      <td>TV-PG</td>\n      <td>90 min</td>\n      <td>Children &amp; Family Movies, Comedies</td>\n      <td>Before planning an awesome wedding for his gra...</td>\n    </tr>\n    <tr>\n      <th>1</th>\n      <td>80117401</td>\n      <td>Movie</td>\n      <td>Jandino: Whatever it Takes</td>\n      <td>NaN</td>\n      <td>Jandino Asporaat</td>\n      <td>United Kingdom</td>\n      <td>September 9, 2016</td>\n      <td>2016</td>\n      <td>TV-MA</td>\n      <td>94 min</td>\n      <td>Stand-Up Comedy</td>\n      <td>Jandino Asporaat riffs on the challenges of ra...</td>\n    </tr>\n    <tr>\n      <th>2</th>\n      <td>70234439</td>\n      <td>TV Show</td>\n      <td>Transformers Prime</td>\n      <td>NaN</td>\n      <td>Peter Cullen, Sumalee Montano, Frank Welker, J...</td>\n      <td>United States</td>\n      <td>September 8, 2018</td>\n      <td>2013</td>\n      <td>TV-Y7-FV</td>\n      <td>1 Season</td>\n      <td>Kids' TV</td>\n      <td>With the help of three human allies, the Autob...</td>\n    </tr>\n    <tr>\n      <th>3</th>\n      <td>80058654</td>\n      <td>TV Show</td>\n      <td>Transformers: Robots in Disguise</td>\n      <td>NaN</td>\n      <td>Will Friedle, Darren Criss, Constance Zimmer, ...</td>\n      <td>United States</td>\n      <td>September 8, 2018</td>\n      <td>2016</td>\n      <td>TV-Y7</td>\n      <td>1 Season</td>\n      <td>Kids' TV</td>\n      <td>When a prison ship crash unleashes hundreds of...</td>\n    </tr>\n    <tr>\n      <th>4</th>\n      <td>80125979</td>\n      <td>Movie</td>\n      <td>#realityhigh</td>\n      <td>Fernando Lebrija</td>\n      <td>Nesta Cooper, Kate Walsh, John Michael Higgins...</td>\n      <td>United States</td>\n      <td>September 8, 2017</td>\n      <td>2017</td>\n      <td>TV-14</td>\n      <td>99 min</td>\n      <td>Comedies</td>\n      <td>When nerdy high schooler Dani finally attracts...</td>\n    </tr>\n  </tbody>\n</table>\n</div>"
     },
     "execution_count": 2,
     "metadata": {},
     "output_type": "execute_result"
    }
   ],
   "source": [
    "raw_data = pd.read_csv('app/static/datasets/netflix_titles.csv')\n",
    "print(raw_data.shape)\n",
    "raw_data.head()"
   ]
  },
  {
   "cell_type": "code",
   "execution_count": 3,
   "metadata": {},
   "outputs": [
    {
     "data": {
      "text/plain": "             show_id   type        title                director  \\\ncount   6.234000e+03   6234         6234                    4265   \nunique           NaN      2         6172                    3301   \ntop              NaN  Movie  Oh My Ghost  Raúl Campos, Jan Suter   \nfreq             NaN   4265            3                      18   \nmean    7.670368e+07    NaN          NaN                     NaN   \nstd     1.094296e+07    NaN          NaN                     NaN   \nmin     2.477470e+05    NaN          NaN                     NaN   \n25%     8.003580e+07    NaN          NaN                     NaN   \n50%     8.016337e+07    NaN          NaN                     NaN   \n75%     8.024489e+07    NaN          NaN                     NaN   \nmax     8.123573e+07    NaN          NaN                     NaN   \n\n                      cast        country       date_added  release_year  \\\ncount                 5664           5758             6223    6234.00000   \nunique                5469            554             1524           NaN   \ntop     David Attenborough  United States  January 1, 2020           NaN   \nfreq                    18           2032              122           NaN   \nmean                   NaN            NaN              NaN    2013.35932   \nstd                    NaN            NaN              NaN       8.81162   \nmin                    NaN            NaN              NaN    1925.00000   \n25%                    NaN            NaN              NaN    2013.00000   \n50%                    NaN            NaN              NaN    2016.00000   \n75%                    NaN            NaN              NaN    2018.00000   \nmax                    NaN            NaN              NaN    2020.00000   \n\n       rating  duration      listed_in  \\\ncount    6224      6234           6234   \nunique     14       201            461   \ntop     TV-MA  1 Season  Documentaries   \nfreq     2027      1321            299   \nmean      NaN       NaN            NaN   \nstd       NaN       NaN            NaN   \nmin       NaN       NaN            NaN   \n25%       NaN       NaN            NaN   \n50%       NaN       NaN            NaN   \n75%       NaN       NaN            NaN   \nmax       NaN       NaN            NaN   \n\n                                              description  \ncount                                                6234  \nunique                                               6226  \ntop     A surly septuagenarian gets another chance at ...  \nfreq                                                    3  \nmean                                                  NaN  \nstd                                                   NaN  \nmin                                                   NaN  \n25%                                                   NaN  \n50%                                                   NaN  \n75%                                                   NaN  \nmax                                                   NaN  ",
      "text/html": "<div>\n<style scoped>\n    .dataframe tbody tr th:only-of-type {\n        vertical-align: middle;\n    }\n\n    .dataframe tbody tr th {\n        vertical-align: top;\n    }\n\n    .dataframe thead th {\n        text-align: right;\n    }\n</style>\n<table border=\"1\" class=\"dataframe\">\n  <thead>\n    <tr style=\"text-align: right;\">\n      <th></th>\n      <th>show_id</th>\n      <th>type</th>\n      <th>title</th>\n      <th>director</th>\n      <th>cast</th>\n      <th>country</th>\n      <th>date_added</th>\n      <th>release_year</th>\n      <th>rating</th>\n      <th>duration</th>\n      <th>listed_in</th>\n      <th>description</th>\n    </tr>\n  </thead>\n  <tbody>\n    <tr>\n      <th>count</th>\n      <td>6.234000e+03</td>\n      <td>6234</td>\n      <td>6234</td>\n      <td>4265</td>\n      <td>5664</td>\n      <td>5758</td>\n      <td>6223</td>\n      <td>6234.00000</td>\n      <td>6224</td>\n      <td>6234</td>\n      <td>6234</td>\n      <td>6234</td>\n    </tr>\n    <tr>\n      <th>unique</th>\n      <td>NaN</td>\n      <td>2</td>\n      <td>6172</td>\n      <td>3301</td>\n      <td>5469</td>\n      <td>554</td>\n      <td>1524</td>\n      <td>NaN</td>\n      <td>14</td>\n      <td>201</td>\n      <td>461</td>\n      <td>6226</td>\n    </tr>\n    <tr>\n      <th>top</th>\n      <td>NaN</td>\n      <td>Movie</td>\n      <td>Oh My Ghost</td>\n      <td>Raúl Campos, Jan Suter</td>\n      <td>David Attenborough</td>\n      <td>United States</td>\n      <td>January 1, 2020</td>\n      <td>NaN</td>\n      <td>TV-MA</td>\n      <td>1 Season</td>\n      <td>Documentaries</td>\n      <td>A surly septuagenarian gets another chance at ...</td>\n    </tr>\n    <tr>\n      <th>freq</th>\n      <td>NaN</td>\n      <td>4265</td>\n      <td>3</td>\n      <td>18</td>\n      <td>18</td>\n      <td>2032</td>\n      <td>122</td>\n      <td>NaN</td>\n      <td>2027</td>\n      <td>1321</td>\n      <td>299</td>\n      <td>3</td>\n    </tr>\n    <tr>\n      <th>mean</th>\n      <td>7.670368e+07</td>\n      <td>NaN</td>\n      <td>NaN</td>\n      <td>NaN</td>\n      <td>NaN</td>\n      <td>NaN</td>\n      <td>NaN</td>\n      <td>2013.35932</td>\n      <td>NaN</td>\n      <td>NaN</td>\n      <td>NaN</td>\n      <td>NaN</td>\n    </tr>\n    <tr>\n      <th>std</th>\n      <td>1.094296e+07</td>\n      <td>NaN</td>\n      <td>NaN</td>\n      <td>NaN</td>\n      <td>NaN</td>\n      <td>NaN</td>\n      <td>NaN</td>\n      <td>8.81162</td>\n      <td>NaN</td>\n      <td>NaN</td>\n      <td>NaN</td>\n      <td>NaN</td>\n    </tr>\n    <tr>\n      <th>min</th>\n      <td>2.477470e+05</td>\n      <td>NaN</td>\n      <td>NaN</td>\n      <td>NaN</td>\n      <td>NaN</td>\n      <td>NaN</td>\n      <td>NaN</td>\n      <td>1925.00000</td>\n      <td>NaN</td>\n      <td>NaN</td>\n      <td>NaN</td>\n      <td>NaN</td>\n    </tr>\n    <tr>\n      <th>25%</th>\n      <td>8.003580e+07</td>\n      <td>NaN</td>\n      <td>NaN</td>\n      <td>NaN</td>\n      <td>NaN</td>\n      <td>NaN</td>\n      <td>NaN</td>\n      <td>2013.00000</td>\n      <td>NaN</td>\n      <td>NaN</td>\n      <td>NaN</td>\n      <td>NaN</td>\n    </tr>\n    <tr>\n      <th>50%</th>\n      <td>8.016337e+07</td>\n      <td>NaN</td>\n      <td>NaN</td>\n      <td>NaN</td>\n      <td>NaN</td>\n      <td>NaN</td>\n      <td>NaN</td>\n      <td>2016.00000</td>\n      <td>NaN</td>\n      <td>NaN</td>\n      <td>NaN</td>\n      <td>NaN</td>\n    </tr>\n    <tr>\n      <th>75%</th>\n      <td>8.024489e+07</td>\n      <td>NaN</td>\n      <td>NaN</td>\n      <td>NaN</td>\n      <td>NaN</td>\n      <td>NaN</td>\n      <td>NaN</td>\n      <td>2018.00000</td>\n      <td>NaN</td>\n      <td>NaN</td>\n      <td>NaN</td>\n      <td>NaN</td>\n    </tr>\n    <tr>\n      <th>max</th>\n      <td>8.123573e+07</td>\n      <td>NaN</td>\n      <td>NaN</td>\n      <td>NaN</td>\n      <td>NaN</td>\n      <td>NaN</td>\n      <td>NaN</td>\n      <td>2020.00000</td>\n      <td>NaN</td>\n      <td>NaN</td>\n      <td>NaN</td>\n      <td>NaN</td>\n    </tr>\n  </tbody>\n</table>\n</div>"
     },
     "execution_count": 3,
     "metadata": {},
     "output_type": "execute_result"
    }
   ],
   "source": [
    "raw_data.describe(include='all')"
   ]
  },
  {
   "cell_type": "markdown",
   "metadata": {},
   "source": [
    "## 3. Preprocessing"
   ]
  },
  {
   "cell_type": "markdown",
   "metadata": {},
   "source": [
    "Daher werden im nächsten Schritt alle Einträge \"NaN\" durch eine leere Zelle ersetzt. Anschließend zeigt die Zeile **count** in jeder Spalte 6.234 Eintäge."
   ]
  },
  {
   "cell_type": "code",
   "execution_count": 4,
   "metadata": {},
   "outputs": [
    {
     "data": {
      "text/plain": "             show_id   type        title director  cast        country  \\\ncount   6.234000e+03   6234         6234     6234  6234           6234   \nunique           NaN      2         6172     3302  5470            555   \ntop              NaN  Movie  Oh My Ghost                 United States   \nfreq             NaN   4265            3     1969   570           2032   \nmean    7.670368e+07    NaN          NaN      NaN   NaN            NaN   \nstd     1.094296e+07    NaN          NaN      NaN   NaN            NaN   \nmin     2.477470e+05    NaN          NaN      NaN   NaN            NaN   \n25%     8.003580e+07    NaN          NaN      NaN   NaN            NaN   \n50%     8.016337e+07    NaN          NaN      NaN   NaN            NaN   \n75%     8.024489e+07    NaN          NaN      NaN   NaN            NaN   \nmax     8.123573e+07    NaN          NaN      NaN   NaN            NaN   \n\n             date_added  release_year rating  duration      listed_in  \\\ncount              6234    6234.00000   6234      6234           6234   \nunique             1525           NaN     15       201            461   \ntop     January 1, 2020           NaN  TV-MA  1 Season  Documentaries   \nfreq                122           NaN   2027      1321            299   \nmean                NaN    2013.35932    NaN       NaN            NaN   \nstd                 NaN       8.81162    NaN       NaN            NaN   \nmin                 NaN    1925.00000    NaN       NaN            NaN   \n25%                 NaN    2013.00000    NaN       NaN            NaN   \n50%                 NaN    2016.00000    NaN       NaN            NaN   \n75%                 NaN    2018.00000    NaN       NaN            NaN   \nmax                 NaN    2020.00000    NaN       NaN            NaN   \n\n                                              description  \ncount                                                6234  \nunique                                               6226  \ntop     A surly septuagenarian gets another chance at ...  \nfreq                                                    3  \nmean                                                  NaN  \nstd                                                   NaN  \nmin                                                   NaN  \n25%                                                   NaN  \n50%                                                   NaN  \n75%                                                   NaN  \nmax                                                   NaN  ",
      "text/html": "<div>\n<style scoped>\n    .dataframe tbody tr th:only-of-type {\n        vertical-align: middle;\n    }\n\n    .dataframe tbody tr th {\n        vertical-align: top;\n    }\n\n    .dataframe thead th {\n        text-align: right;\n    }\n</style>\n<table border=\"1\" class=\"dataframe\">\n  <thead>\n    <tr style=\"text-align: right;\">\n      <th></th>\n      <th>show_id</th>\n      <th>type</th>\n      <th>title</th>\n      <th>director</th>\n      <th>cast</th>\n      <th>country</th>\n      <th>date_added</th>\n      <th>release_year</th>\n      <th>rating</th>\n      <th>duration</th>\n      <th>listed_in</th>\n      <th>description</th>\n    </tr>\n  </thead>\n  <tbody>\n    <tr>\n      <th>count</th>\n      <td>6.234000e+03</td>\n      <td>6234</td>\n      <td>6234</td>\n      <td>6234</td>\n      <td>6234</td>\n      <td>6234</td>\n      <td>6234</td>\n      <td>6234.00000</td>\n      <td>6234</td>\n      <td>6234</td>\n      <td>6234</td>\n      <td>6234</td>\n    </tr>\n    <tr>\n      <th>unique</th>\n      <td>NaN</td>\n      <td>2</td>\n      <td>6172</td>\n      <td>3302</td>\n      <td>5470</td>\n      <td>555</td>\n      <td>1525</td>\n      <td>NaN</td>\n      <td>15</td>\n      <td>201</td>\n      <td>461</td>\n      <td>6226</td>\n    </tr>\n    <tr>\n      <th>top</th>\n      <td>NaN</td>\n      <td>Movie</td>\n      <td>Oh My Ghost</td>\n      <td></td>\n      <td></td>\n      <td>United States</td>\n      <td>January 1, 2020</td>\n      <td>NaN</td>\n      <td>TV-MA</td>\n      <td>1 Season</td>\n      <td>Documentaries</td>\n      <td>A surly septuagenarian gets another chance at ...</td>\n    </tr>\n    <tr>\n      <th>freq</th>\n      <td>NaN</td>\n      <td>4265</td>\n      <td>3</td>\n      <td>1969</td>\n      <td>570</td>\n      <td>2032</td>\n      <td>122</td>\n      <td>NaN</td>\n      <td>2027</td>\n      <td>1321</td>\n      <td>299</td>\n      <td>3</td>\n    </tr>\n    <tr>\n      <th>mean</th>\n      <td>7.670368e+07</td>\n      <td>NaN</td>\n      <td>NaN</td>\n      <td>NaN</td>\n      <td>NaN</td>\n      <td>NaN</td>\n      <td>NaN</td>\n      <td>2013.35932</td>\n      <td>NaN</td>\n      <td>NaN</td>\n      <td>NaN</td>\n      <td>NaN</td>\n    </tr>\n    <tr>\n      <th>std</th>\n      <td>1.094296e+07</td>\n      <td>NaN</td>\n      <td>NaN</td>\n      <td>NaN</td>\n      <td>NaN</td>\n      <td>NaN</td>\n      <td>NaN</td>\n      <td>8.81162</td>\n      <td>NaN</td>\n      <td>NaN</td>\n      <td>NaN</td>\n      <td>NaN</td>\n    </tr>\n    <tr>\n      <th>min</th>\n      <td>2.477470e+05</td>\n      <td>NaN</td>\n      <td>NaN</td>\n      <td>NaN</td>\n      <td>NaN</td>\n      <td>NaN</td>\n      <td>NaN</td>\n      <td>1925.00000</td>\n      <td>NaN</td>\n      <td>NaN</td>\n      <td>NaN</td>\n      <td>NaN</td>\n    </tr>\n    <tr>\n      <th>25%</th>\n      <td>8.003580e+07</td>\n      <td>NaN</td>\n      <td>NaN</td>\n      <td>NaN</td>\n      <td>NaN</td>\n      <td>NaN</td>\n      <td>NaN</td>\n      <td>2013.00000</td>\n      <td>NaN</td>\n      <td>NaN</td>\n      <td>NaN</td>\n      <td>NaN</td>\n    </tr>\n    <tr>\n      <th>50%</th>\n      <td>8.016337e+07</td>\n      <td>NaN</td>\n      <td>NaN</td>\n      <td>NaN</td>\n      <td>NaN</td>\n      <td>NaN</td>\n      <td>NaN</td>\n      <td>2016.00000</td>\n      <td>NaN</td>\n      <td>NaN</td>\n      <td>NaN</td>\n      <td>NaN</td>\n    </tr>\n    <tr>\n      <th>75%</th>\n      <td>8.024489e+07</td>\n      <td>NaN</td>\n      <td>NaN</td>\n      <td>NaN</td>\n      <td>NaN</td>\n      <td>NaN</td>\n      <td>NaN</td>\n      <td>2018.00000</td>\n      <td>NaN</td>\n      <td>NaN</td>\n      <td>NaN</td>\n      <td>NaN</td>\n    </tr>\n    <tr>\n      <th>max</th>\n      <td>8.123573e+07</td>\n      <td>NaN</td>\n      <td>NaN</td>\n      <td>NaN</td>\n      <td>NaN</td>\n      <td>NaN</td>\n      <td>NaN</td>\n      <td>2020.00000</td>\n      <td>NaN</td>\n      <td>NaN</td>\n      <td>NaN</td>\n      <td>NaN</td>\n    </tr>\n  </tbody>\n</table>\n</div>"
     },
     "execution_count": 4,
     "metadata": {},
     "output_type": "execute_result"
    }
   ],
   "source": [
    "raw_data = raw_data.fillna('')\n",
    "raw_data.describe(include='all')"
   ]
  },
  {
   "cell_type": "markdown",
   "metadata": {},
   "source": [
    "Damit SchauspielerInnen und RegisseurInnen in die Berechnungen einbezogen werden können, werden die Vor- und Nachnamen zusammen- und alles klein geschrieben (z.B. wird Richard Finn zu richardfinn), sodass z.B. die Schauspielerinnen Kate Winslet und Kate Hudson nicht allein aufgrund ihres Vornamens zu einer scheinbaren erhöhten Ähnlichkeit führen. Auch aus mehreren Wörtern bestehende Ländernamen und Kategorien werden auf diese Weise verändert."
   ]
  },
  {
   "cell_type": "code",
   "execution_count": 5,
   "metadata": {},
   "outputs": [
    {
     "data": {
      "text/plain": "    show_id    type                                    title  \\\n0  81145628   movie  Norm of the North: King Sized Adventure   \n1  80117401   movie               Jandino: Whatever it Takes   \n2  70234439  tvshow                       Transformers Prime   \n3  80058654  tvshow         Transformers: Robots in Disguise   \n4  80125979   movie                             #realityhigh   \n\n                 director                                               cast  \\\n0  richardfinn, timmaltby  alanmarriott, andrewtoth, briandobson, colehow...   \n1                                                            jandinoasporaat   \n2                          petercullen, sumaleemontano, frankwelker, jeff...   \n3                          willfriedle, darrencriss, constancezimmer, kha...   \n4         fernandolebrija  nestacooper, katewalsh, johnmichaelhiggins, ke...   \n\n                                  country         date_added  release_year  \\\n0  unitedstates, india, southkorea, china  September 9, 2019          2019   \n1                           unitedkingdom  September 9, 2016          2016   \n2                            unitedstates  September 8, 2018          2013   \n3                            unitedstates  September 8, 2018          2016   \n4                            unitedstates  September 8, 2017          2017   \n\n     rating  duration                        listed_in  \\\n0     TV-PG    90 min  children&familymovies, comedies   \n1     TV-MA    94 min                   stand-upcomedy   \n2  TV-Y7-FV  1 Season                          kids'tv   \n3     TV-Y7  1 Season                          kids'tv   \n4     TV-14    99 min                         comedies   \n\n                                         description  \n0  Before planning an awesome wedding for his gra...  \n1  Jandino Asporaat riffs on the challenges of ra...  \n2  With the help of three human allies, the Autob...  \n3  When a prison ship crash unleashes hundreds of...  \n4  When nerdy high schooler Dani finally attracts...  ",
      "text/html": "<div>\n<style scoped>\n    .dataframe tbody tr th:only-of-type {\n        vertical-align: middle;\n    }\n\n    .dataframe tbody tr th {\n        vertical-align: top;\n    }\n\n    .dataframe thead th {\n        text-align: right;\n    }\n</style>\n<table border=\"1\" class=\"dataframe\">\n  <thead>\n    <tr style=\"text-align: right;\">\n      <th></th>\n      <th>show_id</th>\n      <th>type</th>\n      <th>title</th>\n      <th>director</th>\n      <th>cast</th>\n      <th>country</th>\n      <th>date_added</th>\n      <th>release_year</th>\n      <th>rating</th>\n      <th>duration</th>\n      <th>listed_in</th>\n      <th>description</th>\n    </tr>\n  </thead>\n  <tbody>\n    <tr>\n      <th>0</th>\n      <td>81145628</td>\n      <td>movie</td>\n      <td>Norm of the North: King Sized Adventure</td>\n      <td>richardfinn, timmaltby</td>\n      <td>alanmarriott, andrewtoth, briandobson, colehow...</td>\n      <td>unitedstates, india, southkorea, china</td>\n      <td>September 9, 2019</td>\n      <td>2019</td>\n      <td>TV-PG</td>\n      <td>90 min</td>\n      <td>children&amp;familymovies, comedies</td>\n      <td>Before planning an awesome wedding for his gra...</td>\n    </tr>\n    <tr>\n      <th>1</th>\n      <td>80117401</td>\n      <td>movie</td>\n      <td>Jandino: Whatever it Takes</td>\n      <td></td>\n      <td>jandinoasporaat</td>\n      <td>unitedkingdom</td>\n      <td>September 9, 2016</td>\n      <td>2016</td>\n      <td>TV-MA</td>\n      <td>94 min</td>\n      <td>stand-upcomedy</td>\n      <td>Jandino Asporaat riffs on the challenges of ra...</td>\n    </tr>\n    <tr>\n      <th>2</th>\n      <td>70234439</td>\n      <td>tvshow</td>\n      <td>Transformers Prime</td>\n      <td></td>\n      <td>petercullen, sumaleemontano, frankwelker, jeff...</td>\n      <td>unitedstates</td>\n      <td>September 8, 2018</td>\n      <td>2013</td>\n      <td>TV-Y7-FV</td>\n      <td>1 Season</td>\n      <td>kids'tv</td>\n      <td>With the help of three human allies, the Autob...</td>\n    </tr>\n    <tr>\n      <th>3</th>\n      <td>80058654</td>\n      <td>tvshow</td>\n      <td>Transformers: Robots in Disguise</td>\n      <td></td>\n      <td>willfriedle, darrencriss, constancezimmer, kha...</td>\n      <td>unitedstates</td>\n      <td>September 8, 2018</td>\n      <td>2016</td>\n      <td>TV-Y7</td>\n      <td>1 Season</td>\n      <td>kids'tv</td>\n      <td>When a prison ship crash unleashes hundreds of...</td>\n    </tr>\n    <tr>\n      <th>4</th>\n      <td>80125979</td>\n      <td>movie</td>\n      <td>#realityhigh</td>\n      <td>fernandolebrija</td>\n      <td>nestacooper, katewalsh, johnmichaelhiggins, ke...</td>\n      <td>unitedstates</td>\n      <td>September 8, 2017</td>\n      <td>2017</td>\n      <td>TV-14</td>\n      <td>99 min</td>\n      <td>comedies</td>\n      <td>When nerdy high schooler Dani finally attracts...</td>\n    </tr>\n  </tbody>\n</table>\n</div>"
     },
     "execution_count": 5,
     "metadata": {},
     "output_type": "execute_result"
    }
   ],
   "source": [
    "def organize_data(data):\n",
    "    # function to wirte connected names in one word\n",
    "    data = data.str.replace(' ','')\n",
    "    data = data.str.lower()\n",
    "    data = data.str.replace(',',', ')\n",
    "    return data\n",
    "\n",
    "raw_data['type'] = organize_data(raw_data['type'])\n",
    "raw_data['director'] = organize_data(raw_data['director'])\n",
    "raw_data['cast'] = organize_data(raw_data['cast'])\n",
    "raw_data['country'] = organize_data(raw_data['country'])\n",
    "raw_data['listed_in'] = organize_data(raw_data['listed_in'])\n",
    "\n",
    "raw_data.head()"
   ]
  },
  {
   "cell_type": "markdown",
   "metadata": {},
   "source": [
    "Im folgenden Schritt werden noch enthaltene (Satz-)Zeichen wie z.B. \"&\" in den Spalten \"title_pp\", \"director\", \"cast\", \"country\", \"rating\" und \"listed_in\" entfernt. Für die Titel wird dabei eine zusätzliche Spalte (title_pp für preprocess) angelegt, da das Empfehlungsprogramm am Ende auf die unveränderten Titel zurückgreifen können muss."
   ]
  },
  {
   "cell_type": "code",
   "execution_count": 6,
   "metadata": {},
   "outputs": [
    {
     "data": {
      "text/plain": "    show_id    type                                    title  \\\n0  81145628   movie  Norm of the North: King Sized Adventure   \n1  80117401   movie               Jandino: Whatever it Takes   \n2  70234439  tvshow                       Transformers Prime   \n3  80058654  tvshow         Transformers: Robots in Disguise   \n4  80125979   movie                             #realityhigh   \n\n                director                                               cast  \\\n0  richardfinn timmaltby  alanmarriott andrewtoth briandobson colehoward...   \n1                                                           jandinoasporaat   \n2                         petercullen sumaleemontano frankwelker jeffrey...   \n3                         willfriedle darrencriss constancezimmer kharyp...   \n4        fernandolebrija  nestacooper katewalsh johnmichaelhiggins keith...   \n\n                               country         date_added  release_year  \\\n0  unitedstates india southkorea china  September 9, 2019          2019   \n1                        unitedkingdom  September 9, 2016          2016   \n2                         unitedstates  September 8, 2018          2013   \n3                         unitedstates  September 8, 2018          2016   \n4                         unitedstates  September 8, 2017          2017   \n\n   rating  duration                      listed_in  \\\n0    TVPG    90 min  childrenfamilymovies comedies   \n1    TVMA    94 min                  standupcomedy   \n2  TVY7FV  1 Season                         kidstv   \n3    TVY7  1 Season                         kidstv   \n4    TV14    99 min                       comedies   \n\n                                         description  \\\n0  Before planning an awesome wedding for his gra...   \n1  Jandino Asporaat riffs on the challenges of ra...   \n2  With the help of three human allies, the Autob...   \n3  When a prison ship crash unleashes hundreds of...   \n4  When nerdy high schooler Dani finally attracts...   \n\n                                 title_pp  \n0  Norm of the North King Sized Adventure  \n1               Jandino Whatever it Takes  \n2                      Transformers Prime  \n3         Transformers Robots in Disguise  \n4                             realityhigh  ",
      "text/html": "<div>\n<style scoped>\n    .dataframe tbody tr th:only-of-type {\n        vertical-align: middle;\n    }\n\n    .dataframe tbody tr th {\n        vertical-align: top;\n    }\n\n    .dataframe thead th {\n        text-align: right;\n    }\n</style>\n<table border=\"1\" class=\"dataframe\">\n  <thead>\n    <tr style=\"text-align: right;\">\n      <th></th>\n      <th>show_id</th>\n      <th>type</th>\n      <th>title</th>\n      <th>director</th>\n      <th>cast</th>\n      <th>country</th>\n      <th>date_added</th>\n      <th>release_year</th>\n      <th>rating</th>\n      <th>duration</th>\n      <th>listed_in</th>\n      <th>description</th>\n      <th>title_pp</th>\n    </tr>\n  </thead>\n  <tbody>\n    <tr>\n      <th>0</th>\n      <td>81145628</td>\n      <td>movie</td>\n      <td>Norm of the North: King Sized Adventure</td>\n      <td>richardfinn timmaltby</td>\n      <td>alanmarriott andrewtoth briandobson colehoward...</td>\n      <td>unitedstates india southkorea china</td>\n      <td>September 9, 2019</td>\n      <td>2019</td>\n      <td>TVPG</td>\n      <td>90 min</td>\n      <td>childrenfamilymovies comedies</td>\n      <td>Before planning an awesome wedding for his gra...</td>\n      <td>Norm of the North King Sized Adventure</td>\n    </tr>\n    <tr>\n      <th>1</th>\n      <td>80117401</td>\n      <td>movie</td>\n      <td>Jandino: Whatever it Takes</td>\n      <td></td>\n      <td>jandinoasporaat</td>\n      <td>unitedkingdom</td>\n      <td>September 9, 2016</td>\n      <td>2016</td>\n      <td>TVMA</td>\n      <td>94 min</td>\n      <td>standupcomedy</td>\n      <td>Jandino Asporaat riffs on the challenges of ra...</td>\n      <td>Jandino Whatever it Takes</td>\n    </tr>\n    <tr>\n      <th>2</th>\n      <td>70234439</td>\n      <td>tvshow</td>\n      <td>Transformers Prime</td>\n      <td></td>\n      <td>petercullen sumaleemontano frankwelker jeffrey...</td>\n      <td>unitedstates</td>\n      <td>September 8, 2018</td>\n      <td>2013</td>\n      <td>TVY7FV</td>\n      <td>1 Season</td>\n      <td>kidstv</td>\n      <td>With the help of three human allies, the Autob...</td>\n      <td>Transformers Prime</td>\n    </tr>\n    <tr>\n      <th>3</th>\n      <td>80058654</td>\n      <td>tvshow</td>\n      <td>Transformers: Robots in Disguise</td>\n      <td></td>\n      <td>willfriedle darrencriss constancezimmer kharyp...</td>\n      <td>unitedstates</td>\n      <td>September 8, 2018</td>\n      <td>2016</td>\n      <td>TVY7</td>\n      <td>1 Season</td>\n      <td>kidstv</td>\n      <td>When a prison ship crash unleashes hundreds of...</td>\n      <td>Transformers Robots in Disguise</td>\n    </tr>\n    <tr>\n      <th>4</th>\n      <td>80125979</td>\n      <td>movie</td>\n      <td>#realityhigh</td>\n      <td>fernandolebrija</td>\n      <td>nestacooper katewalsh johnmichaelhiggins keith...</td>\n      <td>unitedstates</td>\n      <td>September 8, 2017</td>\n      <td>2017</td>\n      <td>TV14</td>\n      <td>99 min</td>\n      <td>comedies</td>\n      <td>When nerdy high schooler Dani finally attracts...</td>\n      <td>realityhigh</td>\n    </tr>\n  </tbody>\n</table>\n</div>"
     },
     "execution_count": 6,
     "metadata": {},
     "output_type": "execute_result"
    }
   ],
   "source": [
    "# delete punctuation\n",
    "raw_data['title_pp'] = [row.translate(str.maketrans(\"\",\"\", string.punctuation)) for row in raw_data['title']]\n",
    "raw_data['cast'] = [row.translate(str.maketrans(\"\",\"\", string.punctuation)) for row in raw_data['cast']]\n",
    "raw_data['listed_in'] = [row.translate(str.maketrans(\"\",\"\", string.punctuation)) for row in raw_data['listed_in']]\n",
    "raw_data['director'] = [row.translate(str.maketrans(\"\",\"\", string.punctuation)) for row in raw_data['director']]\n",
    "raw_data['country'] = [row.translate(str.maketrans(\"\",\"\", string.punctuation)) for row in raw_data['country']]\n",
    "raw_data['rating'] = [row.translate(str.maketrans(\"\",\"\", string.punctuation)) for row in raw_data['rating']]\n",
    "raw_data.head()"
   ]
  },
  {
   "cell_type": "markdown",
   "metadata": {},
   "source": [
    "## 4. Vektorisierung des Dokuments"
   ]
  },
  {
   "cell_type": "markdown",
   "metadata": {},
   "source": [
    "Damit die Daten ausgewertet und verglichen werden können, werden sie nun mithilfe der Klasse CountVectorizer von scikit-learn in Vektoren transformiert. Es wird davon ausgegangen, dass die Netflix-ID, das Erscheinungsjahr, das Datum, an dem der Eintrag Netflix hinzugefügt wurde sowie die Länge des Films keinen (nennenswerten) Einfluss auf das Empfehlungssystem haben, weshalb diese Kategorien schon im Voraus ausgeschlossen werden, um das Datenvolumen zu reduzieren.<br> Auf die Spalte \"description\" wird der TF-IDF-Vectorizer von scikit-learn angewandt. So wird zwar nach wie vor die Häufigkeit von Wörtern innerhalb eines Dokuments betrachtet. Allerdings werden Wörter, die in (fast) jedem Dokument vorkommen, weniger stark gewichtet, da sie für uns keinen Mehrwert enthalten. Zusätzlich wurde hier der Parameter \"stop_words\" aktiviert. Dadurch werden alle Wörter, die sich in der stopwords-Liste des Natural Language Toolkit befinden, ignoriert. Bei stopwords handelt es sich um Wörter wie \"a(n)\", \"the\", \"this\" etc, die in nahezu jedem Dokument vorkommen (können), aber über keinerlei Informationsgehalt verfügen.\n"
   ]
  },
  {
   "cell_type": "code",
   "execution_count": 7,
   "metadata": {},
   "outputs": [],
   "source": [
    "# lowercase, tokenize and vectorize the data; for description: ignore stop words;\n",
    "count_vectorizer= CountVectorizer()\n",
    "tfidf_vectorizer = TfidfVectorizer(stop_words=set(stopwords.words(\"english\")))\n",
    "\n",
    "data_type = count_vectorizer.fit_transform(raw_data['type'])\n",
    "data_title = count_vectorizer.fit_transform(raw_data['title_pp'])\n",
    "data_director = count_vectorizer.fit_transform(raw_data['director'])\n",
    "data_cast = count_vectorizer.fit_transform(raw_data['cast'])\n",
    "data_country = count_vectorizer.fit_transform(raw_data['country'])\n",
    "data_rating = count_vectorizer.fit_transform(raw_data['rating'])\n",
    "data_listed_in = count_vectorizer.fit_transform(raw_data['listed_in'])\n",
    "data_description = tfidf_vectorizer.fit_transform(raw_data['description'])"
   ]
  },
  {
   "cell_type": "markdown",
   "metadata": {},
   "source": [
    "# 5. Skalierung und Dimensionsreduktion\n",
    "Jede der oben generierten Variablen stellt nun eine schwach besetzte Matrix dar, die als Compressed Sparse Row (CSR) vorliegt. Um eine Dimensionsreduktion durchführen zu können, werden im nächsten Schritt alle Matrizen aneinander gereiht, sodass eine Matrix mit 6234 Zeilen entsteht, die alle Vektoren als Spalten enthält."
   ]
  },
  {
   "cell_type": "code",
   "execution_count": 8,
   "metadata": {},
   "outputs": [
    {
     "data": {
      "text/plain": "<6234x54648 sparse matrix of type '<class 'numpy.float64'>'\n\twith 190910 stored elements in Compressed Sparse Row format>"
     },
     "execution_count": 8,
     "metadata": {},
     "output_type": "execute_result"
    }
   ],
   "source": [
    "#merge the data\n",
    "all_matrix = sparse.hstack((data_type, data_title, data_director, data_cast, data_country, data_rating, data_listed_in, data_description), format='csr') \n",
    "all_matrix"
   ]
  },
  {
   "cell_type": "markdown",
   "metadata": {},
   "source": [
    "Vor der Dimensionsreduktion wird die Matrix skaliert. Da es sich um eine schwach besetzte Matrix handelt, darf durch die Skalierung keine Verschiebung erfolgen. Als Scaler für schwach besetzte Matrizen empfiehlt scikit-learn daher den MaxAbsScaler, bei dem die Matrix so skaliert wird, dass der maximale Absolutwert eines einzelnen Wertes 1 ist."
   ]
  },
  {
   "cell_type": "code",
   "execution_count": 9,
   "metadata": {},
   "outputs": [
    {
     "data": {
      "text/plain": "<6234x54648 sparse matrix of type '<class 'numpy.float64'>'\n\twith 190910 stored elements in Compressed Sparse Row format>"
     },
     "execution_count": 9,
     "metadata": {},
     "output_type": "execute_result"
    }
   ],
   "source": [
    "all_matrix_scale = MaxAbsScaler().fit_transform(all_matrix)\n",
    "all_matrix_scale"
   ]
  },
  {
   "cell_type": "markdown",
   "metadata": {},
   "source": [
    "Im nächsten Schritt erfolgt die Dimensionsreduktion. Für schwach besetzte Matrizen wird von scikit-learn TruncatedSVD empfohlen. Reduziert man die Matrix auf 5.100 Komponenten, werden durch diese Komponenten ca. 95% der Varianz der Daten erklärt."
   ]
  },
  {
   "cell_type": "code",
   "execution_count": null,
   "metadata": {
    "pycharm": {
     "is_executing": true
    }
   },
   "outputs": [],
   "source": [
    "svd = TruncatedSVD(n_components = 5100, n_iter = 5)\n",
    "all_matrix_svd = svd.fit_transform(all_matrix_scale)\n",
    "# summarize explained variance ratio for all 5,100 components\n",
    "explained_variance = svd.explained_variance_ratio_.sum()\n",
    "print(\"The explainded variance amounts to \" + str(explained_variance))"
   ]
  },
  {
   "cell_type": "markdown",
   "metadata": {},
   "source": [
    "# 6. Ähnlichkeitsanalyse und Empfehlungsfunktion\n",
    "Anschließend wird die Kosinus-Ähnlichkeit der einzelnen Einträge zueinander berechnet. Um die Auswirkungen von Skalierung und Dimensionsreduktion beurteilen zu können, wird die Ähnlichkeit für die unskalierte, die skalierte und die dimensionsreduzierte Matrix berechnet."
   ]
  },
  {
   "cell_type": "code",
   "execution_count": 11,
   "metadata": {},
   "outputs": [],
   "source": [
    "cos_similarity = cosine_similarity(all_matrix, all_matrix)\n",
    "cos_similarity_scale = cosine_similarity(all_matrix_scale, all_matrix_scale)\n",
    "cos_similarity_svd = cosine_similarity(all_matrix_svd,all_matrix_svd)"
   ]
  },
  {
   "cell_type": "markdown",
   "metadata": {},
   "source": [
    "Für die Empfehlungen wird nun eine Funktion erstellt, die die Ergebnisse der Ähnlichkeitsberechnung absteigend sortiert und die zugehörigen Filme der zehn besten Ergebnisse zurückgibt."
   ]
  },
  {
   "cell_type": "code",
   "execution_count": 12,
   "metadata": {},
   "outputs": [],
   "source": [
    "indices = pd.Series(raw_data['title'])\n",
    "\n",
    "\n",
    "def recommendations(title, cosine_sim):\n",
    "    \n",
    "    recommended_movies = []\n",
    "    \n",
    "    # getting the index of the movie that matches the title\n",
    "    idx = indices[indices == title].index[0]\n",
    "\n",
    "    # creating a Series with the similarity scores in descending order\n",
    "    score_series = pd.Series(cosine_sim[idx]).sort_values(ascending = False)\n",
    "\n",
    "    # getting the indices of the 10 most similar movies\n",
    "    top_10_indices = list(score_series.iloc[1:11].index)\n",
    "    \n",
    "    # populating the list with the titles of the best 10 matching movies\n",
    "    for i in top_10_indices:\n",
    "        recommended_movies.append(list(raw_data['title'])[i])\n",
    "        \n",
    "    return recommended_movies"
   ]
  },
  {
   "cell_type": "code",
   "execution_count": 13,
   "metadata": {},
   "outputs": [
    {
     "data": {
      "text/plain": "['Men in Black II',\n 'Wild Wild West',\n 'Small Soldiers',\n 'Austin Powers in Goldmember',\n 'Space Cowboys',\n 'Skiptrace',\n 'Singularity',\n 'Dragonheart',\n 'Tremors 6: A Cold Day in Hell',\n 'Otherhood']"
     },
     "execution_count": 13,
     "metadata": {},
     "output_type": "execute_result"
    }
   ],
   "source": [
    "recommendations(\"Men in Black\", cos_similarity)"
   ]
  },
  {
   "cell_type": "code",
   "execution_count": 14,
   "metadata": {},
   "outputs": [
    {
     "data": {
      "text/plain": "['Men in Black II',\n 'Wild Wild West',\n 'Small Soldiers',\n 'Get Smart',\n 'Space Cowboys',\n 'Dragonheart',\n 'Skiptrace',\n 'The Tuxedo',\n 'Singularity',\n 'Evolution']"
     },
     "execution_count": 14,
     "metadata": {},
     "output_type": "execute_result"
    }
   ],
   "source": [
    "recommendations(\"Men in Black\", cos_similarity_scale)"
   ]
  },
  {
   "cell_type": "code",
   "execution_count": 15,
   "metadata": {},
   "outputs": [
    {
     "ename": "NameError",
     "evalue": "name 'cos_similarity_svd' is not defined",
     "output_type": "error",
     "traceback": [
      "\u001B[0;31m---------------------------------------------------------------------------\u001B[0m",
      "\u001B[0;31mNameError\u001B[0m                                 Traceback (most recent call last)",
      "\u001B[0;32m<ipython-input-15-22018eb5a800>\u001B[0m in \u001B[0;36m<module>\u001B[0;34m\u001B[0m\n\u001B[0;32m----> 1\u001B[0;31m \u001B[0mrecommendations\u001B[0m\u001B[0;34m(\u001B[0m\u001B[0;34m\"Men in Black\"\u001B[0m\u001B[0;34m,\u001B[0m \u001B[0mcos_similarity_svd\u001B[0m\u001B[0;34m)\u001B[0m\u001B[0;34m\u001B[0m\u001B[0;34m\u001B[0m\u001B[0m\n\u001B[0m\u001B[1;32m      2\u001B[0m \u001B[0;34m\u001B[0m\u001B[0m\n",
      "\u001B[0;31mNameError\u001B[0m: name 'cos_similarity_svd' is not defined"
     ]
    }
   ],
   "source": [
    "recommendations(\"Men in Black\", cos_similarity_svd)"
   ]
  },
  {
   "cell_type": "markdown",
   "metadata": {},
   "source": [
    "## 6.1 Vergleich unterschiedlicher Ähnlichkeitsberechnungen\n",
    "Im folgenden wird die Ähnlichkeit nicht über die Kosinus-Ähnlichkeit berechnet sondern mithilfe des linearen Kernel von scikit-learn. Anschließend wird die recommendations-Funktion mit den Ergebnissen dieser Ähnlichkeitsberechnugn aufgerufen. Es wurde auch der polynome Kernel getestet (linearer Kernel = polynomer Kernel mit degree = 1). Da das Ergebnis jedoch dasselbe ist (zumindest bis degree = 5), wird hier aus Gründen der Übersichtlichkeit auf die Darstellung verzichtet."
   ]
  },
  {
   "cell_type": "code",
   "execution_count": 16,
   "metadata": {},
   "outputs": [
    {
     "ename": "NameError",
     "evalue": "name 'all_matrix_svd' is not defined",
     "output_type": "error",
     "traceback": [
      "\u001B[0;31m---------------------------------------------------------------------------\u001B[0m",
      "\u001B[0;31mNameError\u001B[0m                                 Traceback (most recent call last)",
      "\u001B[0;32m<ipython-input-16-83f1a0cacc59>\u001B[0m in \u001B[0;36m<module>\u001B[0;34m\u001B[0m\n\u001B[0;32m----> 1\u001B[0;31m \u001B[0mlinear_similarity_svd\u001B[0m \u001B[0;34m=\u001B[0m \u001B[0mlinear_kernel\u001B[0m\u001B[0;34m(\u001B[0m\u001B[0mall_matrix_svd\u001B[0m\u001B[0;34m,\u001B[0m\u001B[0mall_matrix_svd\u001B[0m\u001B[0;34m)\u001B[0m\u001B[0;34m\u001B[0m\u001B[0;34m\u001B[0m\u001B[0m\n\u001B[0m\u001B[1;32m      2\u001B[0m \u001B[0mrecommendations\u001B[0m\u001B[0;34m(\u001B[0m\u001B[0;34m\"Men in Black\"\u001B[0m\u001B[0;34m,\u001B[0m \u001B[0mlinear_similarity_svd\u001B[0m\u001B[0;34m)\u001B[0m\u001B[0;34m\u001B[0m\u001B[0;34m\u001B[0m\u001B[0m\n\u001B[1;32m      3\u001B[0m \u001B[0;34m\u001B[0m\u001B[0m\n",
      "\u001B[0;31mNameError\u001B[0m: name 'all_matrix_svd' is not defined"
     ]
    }
   ],
   "source": [
    "linear_similarity_svd = linear_kernel(all_matrix_svd,all_matrix_svd)\n",
    "recommendations(\"Men in Black\", linear_similarity_svd)"
   ]
  },
  {
   "cell_type": "markdown",
   "metadata": {},
   "source": [
    "Die Ergebnisse der Ähnlichkeitsberechnung mit dem Sigmoid-Kernel decken sich mit denen des linearen Kernel:"
   ]
  },
  {
   "cell_type": "code",
   "execution_count": 18,
   "metadata": {},
   "outputs": [
    {
     "ename": "NameError",
     "evalue": "name 'all_matrix_svd' is not defined",
     "output_type": "error",
     "traceback": [
      "\u001B[0;31m---------------------------------------------------------------------------\u001B[0m",
      "\u001B[0;31mNameError\u001B[0m                                 Traceback (most recent call last)",
      "\u001B[0;32m<ipython-input-18-e4f80a98aeda>\u001B[0m in \u001B[0;36m<module>\u001B[0;34m\u001B[0m\n\u001B[0;32m----> 1\u001B[0;31m \u001B[0msigmoid_similarity_svd\u001B[0m \u001B[0;34m=\u001B[0m \u001B[0msigmoid_kernel\u001B[0m\u001B[0;34m(\u001B[0m\u001B[0mall_matrix_svd\u001B[0m\u001B[0;34m,\u001B[0m\u001B[0mall_matrix_svd\u001B[0m\u001B[0;34m)\u001B[0m\u001B[0;34m\u001B[0m\u001B[0;34m\u001B[0m\u001B[0m\n\u001B[0m\u001B[1;32m      2\u001B[0m \u001B[0mrecommendations\u001B[0m\u001B[0;34m(\u001B[0m\u001B[0;34m\"Men in Black\"\u001B[0m\u001B[0;34m,\u001B[0m \u001B[0msigmoid_similarity_svd\u001B[0m\u001B[0;34m)\u001B[0m\u001B[0;34m\u001B[0m\u001B[0;34m\u001B[0m\u001B[0m\n\u001B[1;32m      3\u001B[0m \u001B[0;34m\u001B[0m\u001B[0m\n",
      "\u001B[0;31mNameError\u001B[0m: name 'all_matrix_svd' is not defined"
     ]
    }
   ],
   "source": [
    "sigmoid_similarity_svd = sigmoid_kernel(all_matrix_svd,all_matrix_svd)\n",
    "recommendations(\"Men in Black\", sigmoid_similarity_svd)"
   ]
  },
  {
   "cell_type": "markdown",
   "metadata": {},
   "source": [
    "Die Ergebnisse des RBF-Kernel weichen dagegen schon merklich von den übrigen Ähnlichkeitsberechnungen ab. Bezogen auf die unskalierte, dimnesionsal noch nicht reduzierte Matrix stimmen lediglich zwei Filme überein:"
   ]
  },
  {
   "cell_type": "code",
   "execution_count": 17,
   "metadata": {},
   "outputs": [
    {
     "ename": "NameError",
     "evalue": "name 'all_matrix_svd' is not defined",
     "output_type": "error",
     "traceback": [
      "\u001B[0;31m---------------------------------------------------------------------------\u001B[0m",
      "\u001B[0;31mNameError\u001B[0m                                 Traceback (most recent call last)",
      "\u001B[0;32m<ipython-input-17-bb976da0930e>\u001B[0m in \u001B[0;36m<module>\u001B[0;34m\u001B[0m\n\u001B[0;32m----> 1\u001B[0;31m \u001B[0mrbf_similarity_svd\u001B[0m \u001B[0;34m=\u001B[0m \u001B[0mrbf_kernel\u001B[0m\u001B[0;34m(\u001B[0m\u001B[0mall_matrix_svd\u001B[0m\u001B[0;34m,\u001B[0m\u001B[0mall_matrix_svd\u001B[0m\u001B[0;34m)\u001B[0m\u001B[0;34m\u001B[0m\u001B[0;34m\u001B[0m\u001B[0m\n\u001B[0m\u001B[1;32m      2\u001B[0m \u001B[0mrecommendations\u001B[0m\u001B[0;34m(\u001B[0m\u001B[0;34m\"Men in Black\"\u001B[0m\u001B[0;34m,\u001B[0m \u001B[0mrbf_similarity_svd\u001B[0m\u001B[0;34m)\u001B[0m\u001B[0;34m\u001B[0m\u001B[0;34m\u001B[0m\u001B[0m\n\u001B[1;32m      3\u001B[0m \u001B[0;34m\u001B[0m\u001B[0m\n",
      "\u001B[0;31mNameError\u001B[0m: name 'all_matrix_svd' is not defined"
     ]
    }
   ],
   "source": [
    "rbf_similarity_svd = rbf_kernel(all_matrix_svd,all_matrix_svd)\n",
    "recommendations(\"Men in Black\", rbf_similarity_svd)"
   ]
  },
  {
   "cell_type": "markdown",
   "metadata": {},
   "source": [
    "Die gleichen Ergebnisse liefert eine Ähnlichkeitsberechnung mit dem Laplace-Kernel:"
   ]
  },
  {
   "cell_type": "code",
   "execution_count": 18,
   "metadata": {},
   "outputs": [
    {
     "ename": "NameError",
     "evalue": "name 'all_matrix_svd' is not defined",
     "output_type": "error",
     "traceback": [
      "\u001B[0;31m---------------------------------------------------------------------------\u001B[0m",
      "\u001B[0;31mNameError\u001B[0m                                 Traceback (most recent call last)",
      "\u001B[0;32m<ipython-input-18-2e067d3cfab1>\u001B[0m in \u001B[0;36m<module>\u001B[0;34m\u001B[0m\n\u001B[0;32m----> 1\u001B[0;31m \u001B[0mlaplace_similarity_svd\u001B[0m \u001B[0;34m=\u001B[0m \u001B[0mrbf_kernel\u001B[0m\u001B[0;34m(\u001B[0m\u001B[0mall_matrix_svd\u001B[0m\u001B[0;34m,\u001B[0m\u001B[0mall_matrix_svd\u001B[0m\u001B[0;34m)\u001B[0m\u001B[0;34m\u001B[0m\u001B[0;34m\u001B[0m\u001B[0m\n\u001B[0m\u001B[1;32m      2\u001B[0m \u001B[0mrecommendations\u001B[0m\u001B[0;34m(\u001B[0m\u001B[0;34m\"Men in Black\"\u001B[0m\u001B[0;34m,\u001B[0m \u001B[0mlaplace_similarity_svd\u001B[0m\u001B[0;34m)\u001B[0m\u001B[0;34m\u001B[0m\u001B[0;34m\u001B[0m\u001B[0m\n\u001B[1;32m      3\u001B[0m \u001B[0;34m\u001B[0m\u001B[0m\n",
      "\u001B[0;31mNameError\u001B[0m: name 'all_matrix_svd' is not defined"
     ]
    }
   ],
   "source": [
    "laplace_similarity_svd = rbf_kernel(all_matrix_svd,all_matrix_svd)\n",
    "recommendations(\"Men in Black\", laplace_similarity_svd)"
   ]
  },
  {
   "cell_type": "markdown",
   "metadata": {},
   "source": [
    "## 6.2 Gewichtung einzelner Faktoren\n",
    "Eine Alternative zu einer großen Matrix, deren Dimension reduziert wird, wären mehrere einzelne Matrizen, die unterschiedlich gewichtet werden können. Als Beispiel werden an dieser Stelle drei Kategorien generiert, nämlich\n",
    "<br>\n",
    "- Genre: Zusammenfassung der Kategorien 'type', 'listed_in' und 'rating',\n",
    "- Team: Zusammenfassung der Kategorien 'director' und 'cast',\n",
    "- Content: Zusammenfassung der Kategorien 'title' und 'description';\n"
   ]
  },
  {
   "cell_type": "markdown",
   "metadata": {},
   "source": [
    "Nach der Vektorisierung wird für jede Kategorie die Ähnlichkeitsberechunng (und zuvor ggf. eine Dimnesionsreduktion) durchgeführt.<br>\n",
    "Anschließend wird durch Addition der unterschiedlich gewichteten Matrizen eine neue Matrix generiert, auf deren Basis die Empfehlung erfolgt. <br>\n",
    "*Anmerkung: Da in unserem Fall die Dimensionsreduktion mit Abstand die meiste Rechenzeit in Anspruch nimmt, wird im folgenden Beispiel darauf verzichtet.*"
   ]
  },
  {
   "cell_type": "code",
   "execution_count": 19,
   "metadata": {},
   "outputs": [],
   "source": [
    "# generate new categories\n",
    "genre = sparse.hstack((data_type, data_rating, data_listed_in), format='csr')\n",
    "team = sparse.hstack((data_director, data_cast), format='csr')\n",
    "content = sparse.hstack((data_title, data_description), format='csr')"
   ]
  },
  {
   "cell_type": "code",
   "execution_count": 82,
   "metadata": {},
   "outputs": [
    {
     "data": {
      "text/plain": "['Men in Black II',\n 'Wild Wild West',\n 'Small Soldiers',\n 'Black Panther',\n 'Austin Powers in Goldmember',\n 'Austin Powers: The Spy Who Shagged Me',\n 'Thor: Ragnarok',\n 'Ant-Man and the Wasp',\n 'Tremors 6: A Cold Day in Hell',\n 'Where the Money Is']"
     },
     "execution_count": 82,
     "metadata": {},
     "output_type": "execute_result"
    }
   ],
   "source": [
    "# calculate cosine similarity\n",
    "genre_similarity = cosine_similarity(genre, genre)\n",
    "team_similarity = cosine_similarity(team, team)\n",
    "content_similarity = cosine_similarity(content, content)\n",
    "\n",
    "# determine coefficients\n",
    "coeff_genre = 1.5\n",
    "coeff_team = 2\n",
    "coeff_content = 1\n",
    "\n",
    "# calculate total similarity \n",
    "total_similarity = coeff_genre*genre_similarity + coeff_team*team_similarity + coeff_content*content_similarity\n",
    "\n",
    "# call recommendations function\n",
    "recommendations(\"Men in Black\", total_similarity)"
   ]
  },
  {
   "cell_type": "markdown",
   "metadata": {},
   "source": [
    "## 6.3 Cosine Similarity Dimensionsreduktion\n",
    "Wie wir schon gesehen haben, es gibt ein paar Möglichkeiten die Cosine Similarity Matrix zu erhalten. Da wir keine Target-Values haben, müssen wir selber die beste Empfehlungssystem (die beste cosine symilarity).\n",
    "Das Nachteil von cosine similarity Matrix ist, dass die Größe immer quadratisch sich ändert.\n",
    "D.h, dass wir immer die Dimensionen nxn erhalten, wo n – Anzahl der Filme.\n",
    "Da wir untere Recommendation System zu der Server hochladen wollen, brauchen wir das komprimierte Recommendation-Model das weniger Speicher hat.\n",
    "\n",
    "Dafür können wir PCA Methode benutzen, um der Dimensionsreduktion durchzuführen und KNN Algorithmus als Recommendation Model halten.\n",
    "KNN Algorithmus braucht aber Distanz zwischen Punkten anstatt similarity. Somit können wir aus unsere cosine similarity eine cosinedistance Matrix berechnen.\n",
    "P.S. Das ist keine echte (z.b. euklidische) Distanz."
   ]
  },
  {
   "cell_type": "code",
   "execution_count": 96,
   "outputs": [],
   "source": [
    "cosine_distance = (1 - cos_similarity_scale)"
   ],
   "metadata": {
    "collapsed": false,
    "pycharm": {
     "name": "#%%\n"
    }
   }
  },
  {
   "cell_type": "code",
   "execution_count": 97,
   "outputs": [],
   "source": [
    "from sklearn.decomposition import PCA\n",
    "pca = PCA(0.99) #give the variance\n",
    "X_PCA = pca.fit_transform(cosine_distance)\n",
    "## Save the PCA file (for server)\n",
    "np.save('app/static/npy/pca.npy', X_PCA)"
   ],
   "metadata": {
    "collapsed": false,
    "pycharm": {
     "name": "#%%\n"
    }
   }
  },
  {
   "cell_type": "code",
   "execution_count": 98,
   "outputs": [
    {
     "name": "stdout",
     "output_type": "stream",
     "text": [
      "2682\n"
     ]
    }
   ],
   "source": [
    "print(pca.n_components_)"
   ],
   "metadata": {
    "collapsed": false,
    "pycharm": {
     "name": "#%%\n"
    }
   }
  },
  {
   "cell_type": "code",
   "execution_count": 99,
   "outputs": [],
   "source": [
    "#for future accuracy function lets define the number of Nearest Neighbors as 101, when we train the model on the server this value will be 13\n",
    "number_of_neighbors = 101"
   ],
   "metadata": {
    "collapsed": false,
    "pycharm": {
     "name": "#%%\n"
    }
   }
  },
  {
   "cell_type": "code",
   "execution_count": 100,
   "outputs": [
    {
     "data": {
      "text/plain": "NearestNeighbors(algorithm='kd_tree', leaf_size=30, metric='cityblock',\n                 metric_params=None, n_jobs=None, n_neighbors=101, p=2,\n                 radius=1.0)"
     },
     "execution_count": 100,
     "metadata": {},
     "output_type": "execute_result"
    }
   ],
   "source": [
    "from sklearn.neighbors import NearestNeighbors\n",
    "KNN_distance = NearestNeighbors(n_neighbors=number_of_neighbors, algorithm='kd_tree', leaf_size=1, metric= 'chebyshev')\n",
    "#lets fit the cosine distance matrix to NearestNeighbors to calculate how it perform in compared to direct search in cosine similarity matrix\n",
    "KNN_distance.fit(cosine_distance)\n",
    "\n",
    "\n",
    "KNN_PCA = NearestNeighbors(n_neighbors=number_of_neighbors , algorithm='kd_tree', metric= 'cityblock')\n",
    "KNN_PCA.fit(X_PCA) # let's fit the reduced cosine distance matrix (PCA matrix) in Nearest Neighbors Model\n"
   ],
   "metadata": {
    "collapsed": false,
    "pycharm": {
     "name": "#%% NearestNeighbors will give us the N points that are located closest to the given Point\n"
    }
   }
  },
  {
   "cell_type": "markdown",
   "source": [
    "Nach der Dimensionsreduktion mit PCA Methode steht die Frage wie gut unsere Recommendation System performt im Vergleich zu direkte Suche in Cosine silarity Matrix.\n",
    "Dafür haben wir die Funktion erstellt, die als Input-Value das Film-Index bekommen und als Output die 100 recommendation Filmen ergeben."
   ],
   "metadata": {
    "collapsed": false,
    "pycharm": {
     "name": "#%% md\n"
    }
   }
  },
  {
   "cell_type": "code",
   "execution_count": 101,
   "outputs": [],
   "source": [
    "##functions that gives just indexes of the recommended films\n",
    "def get_top100_indexes_cosine_dis(idx):\n",
    "    score_series = pd.Series(cosine_distance[idx]).sort_values(ascending = True)\n",
    "    top_100_indexes = list(score_series.iloc[1:number_of_neighbors].index)\n",
    "\n",
    "    return top_100_indexes\n",
    "\n",
    "def get_top100_indexes_cosine_sim(idx):\n",
    "    score_series = pd.Series(cos_similarity_scale[idx]).sort_values(ascending = False)\n",
    "    top_100_indexes = list(score_series.iloc[1:number_of_neighbors].index)\n",
    "\n",
    "    return top_100_indexes\n",
    "\n",
    "def get_top100_indexes_pca(idx):\n",
    "\n",
    "    coordinates = X_PCA[idx]\n",
    "    top_100_knn = KNN_PCA.kneighbors([coordinates])\n",
    "    top_100_indexes = list(top_100_knn[1][0])\n",
    "    top_100_indexes.pop(0)\n",
    "    return top_100_indexes\n",
    "\n",
    "def get_top100_indexes_cos_distance_knn(idx):\n",
    "\n",
    "    coordinates = cosine_distance[idx]\n",
    "    top_100_knn = KNN_distance.kneighbors([coordinates])\n",
    "    top_100_indexes = list(top_100_knn[1][0])\n",
    "    top_100_indexes.pop(0)\n",
    "    return top_100_indexes"
   ],
   "metadata": {
    "collapsed": false,
    "pycharm": {
     "name": "#%%\n"
    }
   }
  },
  {
   "cell_type": "markdown",
   "source": [
    "In dieser Ausarbeitung vergleichen wir folgende Recommendation Systeme:\n",
    "1. direkte Suche in Cosine Similarity vs. Directe Suche in Cosine Distance Matrix\n",
    "2. direkte Suche in Cosine Similarity vs. KNN model mit angepasste Cosine Distance Matrix\n",
    "3. direkte Suche in Cosine Similarity vs KNN Model mit angepasste PCA Matrix\n",
    "\n",
    "Um die Genauigkeit einzuschätzen, berechnen wir der Anzahl der Filme, die von beiden Systemen ausgewertet werden und Teilen wir an 100 (Anzahl der Filme in Recommendation Matrix)"
   ],
   "metadata": {
    "collapsed": false,
    "pycharm": {
     "name": "#%% md\n"
    }
   }
  },
  {
   "cell_type": "code",
   "execution_count": 102,
   "outputs": [],
   "source": [
    "#lets create the empty lists\n",
    "results_pca = []\n",
    "results_mds = []\n",
    "result_dis_sim = []\n",
    "result_distance= []\n",
    "\n",
    "for i in range(cosine_distance.shape[0]): #go through all movies and take the recommended films.\n",
    "\n",
    "    top_100_dis = get_top100_indexes_cosine_dis(i)\n",
    "    top_100_sim = get_top100_indexes_cosine_sim(i)\n",
    "    top_100_pca = get_top100_indexes_pca(i)\n",
    "    top_100_distance_knn = get_top100_indexes_cos_distance_knn(i)\n",
    "\n",
    "    # this function line add to list the percentage number of film that intersect from both recommendation systems\n",
    "    result_dis_sim.append(len(set(top_100_dis).intersection(top_100_sim))/len(set(top_100_dis)))\n",
    "    results_pca.append(len(set(top_100_dis).intersection(top_100_pca))/len(set(top_100_dis)))\n",
    "    result_distance.append(len(set(top_100_sim).intersection(top_100_distance_knn))/len(set(top_100_dis)))"
   ],
   "metadata": {
    "collapsed": false,
    "pycharm": {
     "name": "#%%\n"
    }
   }
  },
  {
   "cell_type": "code",
   "execution_count": 103,
   "outputs": [
    {
     "name": "stdout",
     "output_type": "stream",
     "text": [
      "accuracy between original cosine and cosine distance matrix = 0.9999919794674366\n",
      "accuracy between original cosine and pca knn = 0.6310362528071864\n",
      "accuracy between original cosine and cosine distance knn = 0.9999919794674366\n"
     ]
    }
   ],
   "source": [
    "# With this Formula we can print the accuracy of each recommendation model\n",
    "result_array_dis_sim = np.array(result_dis_sim)\n",
    "print(f'accuracy between original cosine and cosine distance matrix = {result_array_dis_sim.mean()}')\n",
    "\n",
    "result_array_pca = np.array(results_pca)\n",
    "print(f'accuracy between original cosine and pca knn = {result_array_pca.mean()}')\n",
    "\n",
    "result_array_distance_knn = np.array(result_distance)\n",
    "print(f'accuracy between original cosine and cosine distance knn = {result_array_distance_knn.mean()}')"
   ],
   "metadata": {
    "collapsed": false,
    "pycharm": {
     "name": "#%%\n"
    }
   }
  },
  {
   "cell_type": "markdown",
   "source": [
    "Als wir sehen können die Genauichkein bleibt über 60% beim Dimmentionenreduzierung von 6234 bis 2682"
   ],
   "metadata": {
    "collapsed": false,
    "pycharm": {
     "name": "#%% md\n"
    }
   }
  },
  {
   "cell_type": "code",
   "execution_count": 68,
   "outputs": [],
   "source": [],
   "metadata": {
    "collapsed": false,
    "pycharm": {
     "name": "#%%\n"
    }
   }
  }
 ],
 "metadata": {
  "kernelspec": {
   "display_name": "Python 3",
   "language": "python",
   "name": "python3"
  },
  "language_info": {
   "codemirror_mode": {
    "name": "ipython",
    "version": 3
   },
   "file_extension": ".py",
   "mimetype": "text/x-python",
   "name": "python",
   "nbconvert_exporter": "python",
   "pygments_lexer": "ipython3",
   "version": "3.8.3"
  }
 },
 "nbformat": 4,
 "nbformat_minor": 4
}