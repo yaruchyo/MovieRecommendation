{
 "cells": [
  {
   "cell_type": "code",
   "execution_count": 19,
   "outputs": [],
   "source": [
    "# Inhaltsbasiertes Empfehlungssystem für Netflix-Filme"
   ],
   "metadata": {
    "collapsed": false,
    "pycharm": {
     "name": "#%%\n"
    }
   }
  },
  {
   "cell_type": "markdown",
   "source": [
    "**Gruppe 1:** <br>\n",
    "Theen, Johannes (TH München)<br>\n",
    "Utz, Elisabeth (OTH Amberg-Weiden)<br>\n",
    "Yaruchyk, Oleg (TH München)"
   ],
   "metadata": {
    "collapsed": false
   }
  },
  {
   "cell_type": "code",
   "execution_count": 20,
   "outputs": [],
   "source": [
    "import pandas as pd\n",
    "import numpy as np\n"
   ],
   "metadata": {
    "collapsed": false,
    "pycharm": {
     "name": "#%%\n"
    }
   }
  },
  {
   "cell_type": "code",
   "execution_count": 21,
   "outputs": [
    {
     "name": "stdout",
     "output_type": "stream",
     "text": [
      "6234\n"
     ]
    }
   ],
   "source": [
    "raw_data = pd.read_csv('app/static/datasets/netflix_titles.csv') #read data\n",
    "raw_data = raw_data.fillna('') #delete all NAN\n",
    "print(len(raw_data))"
   ],
   "metadata": {
    "collapsed": false,
    "pycharm": {
     "name": "#%%\n"
    }
   }
  },
  {
   "cell_type": "markdown",
   "source": [
    " ## Input Data"
   ],
   "metadata": {
    "collapsed": false
   }
  },
  {
   "cell_type": "code",
   "execution_count": 22,
   "outputs": [
    {
     "data": {
      "text/plain": "    show_id     type                                    title  \\\n0  81145628    Movie  Norm of the North: King Sized Adventure   \n1  80117401    Movie               Jandino: Whatever it Takes   \n2  70234439  TV Show                       Transformers Prime   \n3  80058654  TV Show         Transformers: Robots in Disguise   \n4  80125979    Movie                             #realityhigh   \n\n                   director  \\\n0  Richard Finn, Tim Maltby   \n1                             \n2                             \n3                             \n4          Fernando Lebrija   \n\n                                                cast  \\\n0  Alan Marriott, Andrew Toth, Brian Dobson, Cole...   \n1                                   Jandino Asporaat   \n2  Peter Cullen, Sumalee Montano, Frank Welker, J...   \n3  Will Friedle, Darren Criss, Constance Zimmer, ...   \n4  Nesta Cooper, Kate Walsh, John Michael Higgins...   \n\n                                    country         date_added  release_year  \\\n0  United States, India, South Korea, China  September 9, 2019          2019   \n1                            United Kingdom  September 9, 2016          2016   \n2                             United States  September 8, 2018          2013   \n3                             United States  September 8, 2018          2016   \n4                             United States  September 8, 2017          2017   \n\n     rating  duration                           listed_in  \\\n0     TV-PG    90 min  Children & Family Movies, Comedies   \n1     TV-MA    94 min                     Stand-Up Comedy   \n2  TV-Y7-FV  1 Season                            Kids' TV   \n3     TV-Y7  1 Season                            Kids' TV   \n4     TV-14    99 min                            Comedies   \n\n                                         description  \n0  Before planning an awesome wedding for his gra...  \n1  Jandino Asporaat riffs on the challenges of ra...  \n2  With the help of three human allies, the Autob...  \n3  When a prison ship crash unleashes hundreds of...  \n4  When nerdy high schooler Dani finally attracts...  ",
      "text/html": "<div>\n<style scoped>\n    .dataframe tbody tr th:only-of-type {\n        vertical-align: middle;\n    }\n\n    .dataframe tbody tr th {\n        vertical-align: top;\n    }\n\n    .dataframe thead th {\n        text-align: right;\n    }\n</style>\n<table border=\"1\" class=\"dataframe\">\n  <thead>\n    <tr style=\"text-align: right;\">\n      <th></th>\n      <th>show_id</th>\n      <th>type</th>\n      <th>title</th>\n      <th>director</th>\n      <th>cast</th>\n      <th>country</th>\n      <th>date_added</th>\n      <th>release_year</th>\n      <th>rating</th>\n      <th>duration</th>\n      <th>listed_in</th>\n      <th>description</th>\n    </tr>\n  </thead>\n  <tbody>\n    <tr>\n      <th>0</th>\n      <td>81145628</td>\n      <td>Movie</td>\n      <td>Norm of the North: King Sized Adventure</td>\n      <td>Richard Finn, Tim Maltby</td>\n      <td>Alan Marriott, Andrew Toth, Brian Dobson, Cole...</td>\n      <td>United States, India, South Korea, China</td>\n      <td>September 9, 2019</td>\n      <td>2019</td>\n      <td>TV-PG</td>\n      <td>90 min</td>\n      <td>Children &amp; Family Movies, Comedies</td>\n      <td>Before planning an awesome wedding for his gra...</td>\n    </tr>\n    <tr>\n      <th>1</th>\n      <td>80117401</td>\n      <td>Movie</td>\n      <td>Jandino: Whatever it Takes</td>\n      <td></td>\n      <td>Jandino Asporaat</td>\n      <td>United Kingdom</td>\n      <td>September 9, 2016</td>\n      <td>2016</td>\n      <td>TV-MA</td>\n      <td>94 min</td>\n      <td>Stand-Up Comedy</td>\n      <td>Jandino Asporaat riffs on the challenges of ra...</td>\n    </tr>\n    <tr>\n      <th>2</th>\n      <td>70234439</td>\n      <td>TV Show</td>\n      <td>Transformers Prime</td>\n      <td></td>\n      <td>Peter Cullen, Sumalee Montano, Frank Welker, J...</td>\n      <td>United States</td>\n      <td>September 8, 2018</td>\n      <td>2013</td>\n      <td>TV-Y7-FV</td>\n      <td>1 Season</td>\n      <td>Kids' TV</td>\n      <td>With the help of three human allies, the Autob...</td>\n    </tr>\n    <tr>\n      <th>3</th>\n      <td>80058654</td>\n      <td>TV Show</td>\n      <td>Transformers: Robots in Disguise</td>\n      <td></td>\n      <td>Will Friedle, Darren Criss, Constance Zimmer, ...</td>\n      <td>United States</td>\n      <td>September 8, 2018</td>\n      <td>2016</td>\n      <td>TV-Y7</td>\n      <td>1 Season</td>\n      <td>Kids' TV</td>\n      <td>When a prison ship crash unleashes hundreds of...</td>\n    </tr>\n    <tr>\n      <th>4</th>\n      <td>80125979</td>\n      <td>Movie</td>\n      <td>#realityhigh</td>\n      <td>Fernando Lebrija</td>\n      <td>Nesta Cooper, Kate Walsh, John Michael Higgins...</td>\n      <td>United States</td>\n      <td>September 8, 2017</td>\n      <td>2017</td>\n      <td>TV-14</td>\n      <td>99 min</td>\n      <td>Comedies</td>\n      <td>When nerdy high schooler Dani finally attracts...</td>\n    </tr>\n  </tbody>\n</table>\n</div>"
     },
     "execution_count": 22,
     "metadata": {},
     "output_type": "execute_result"
    }
   ],
   "source": [
    "raw_data.head()\n",
    "\n"
   ],
   "metadata": {
    "collapsed": false,
    "pycharm": {
     "name": "#%%\n"
    }
   }
  },
  {
   "cell_type": "code",
   "execution_count": 23,
   "outputs": [],
   "source": [
    "raw_data['type']= raw_data['type'].str.replace(' ', '')\n",
    "raw_data['description'] = raw_data['description'].str.lower() #Set description value\n",
    "\n",
    "def organize_data(data): #Save name and surname as one word\n",
    "    data = data.str.replace(', ',',')\n",
    "    data = data.str.replace(' ','')\n",
    "    data = data.str.lower()\n",
    "    data = data.str.replace(',',', ')\n",
    "\n",
    "    return data\n",
    "\n",
    "raw_data['director'] = organize_data(raw_data['director'])\n",
    "raw_data['listed_in'] = organize_data(raw_data['listed_in'])\n",
    "raw_data['cast'] = organize_data(raw_data['cast'])\n",
    "raw_data['country'] = organize_data(raw_data['country'])\n",
    "raw_data['type'] = organize_data(raw_data['type'])"
   ],
   "metadata": {
    "collapsed": false,
    "pycharm": {
     "name": "#%%\n"
    }
   }
  },
  {
   "cell_type": "code",
   "execution_count": 24,
   "outputs": [
    {
     "data": {
      "text/plain": "    show_id    type                                    title  \\\n0  81145628   movie  Norm of the North: King Sized Adventure   \n1  80117401   movie               Jandino: Whatever it Takes   \n2  70234439  tvshow                       Transformers Prime   \n3  80058654  tvshow         Transformers: Robots in Disguise   \n4  80125979   movie                             #realityhigh   \n\n                 director                                               cast  \\\n0  richardfinn, timmaltby  alanmarriott, andrewtoth, briandobson, colehow...   \n1                                                            jandinoasporaat   \n2                          petercullen, sumaleemontano, frankwelker, jeff...   \n3                          willfriedle, darrencriss, constancezimmer, kha...   \n4         fernandolebrija  nestacooper, katewalsh, johnmichaelhiggins, ke...   \n\n                                  country         date_added  release_year  \\\n0  unitedstates, india, southkorea, china  September 9, 2019          2019   \n1                           unitedkingdom  September 9, 2016          2016   \n2                            unitedstates  September 8, 2018          2013   \n3                            unitedstates  September 8, 2018          2016   \n4                            unitedstates  September 8, 2017          2017   \n\n     rating  duration                        listed_in  \\\n0     TV-PG    90 min  children&familymovies, comedies   \n1     TV-MA    94 min                   stand-upcomedy   \n2  TV-Y7-FV  1 Season                          kids'tv   \n3     TV-Y7  1 Season                          kids'tv   \n4     TV-14    99 min                         comedies   \n\n                                         description  \n0  before planning an awesome wedding for his gra...  \n1  jandino asporaat riffs on the challenges of ra...  \n2  with the help of three human allies, the autob...  \n3  when a prison ship crash unleashes hundreds of...  \n4  when nerdy high schooler dani finally attracts...  ",
      "text/html": "<div>\n<style scoped>\n    .dataframe tbody tr th:only-of-type {\n        vertical-align: middle;\n    }\n\n    .dataframe tbody tr th {\n        vertical-align: top;\n    }\n\n    .dataframe thead th {\n        text-align: right;\n    }\n</style>\n<table border=\"1\" class=\"dataframe\">\n  <thead>\n    <tr style=\"text-align: right;\">\n      <th></th>\n      <th>show_id</th>\n      <th>type</th>\n      <th>title</th>\n      <th>director</th>\n      <th>cast</th>\n      <th>country</th>\n      <th>date_added</th>\n      <th>release_year</th>\n      <th>rating</th>\n      <th>duration</th>\n      <th>listed_in</th>\n      <th>description</th>\n    </tr>\n  </thead>\n  <tbody>\n    <tr>\n      <th>0</th>\n      <td>81145628</td>\n      <td>movie</td>\n      <td>Norm of the North: King Sized Adventure</td>\n      <td>richardfinn, timmaltby</td>\n      <td>alanmarriott, andrewtoth, briandobson, colehow...</td>\n      <td>unitedstates, india, southkorea, china</td>\n      <td>September 9, 2019</td>\n      <td>2019</td>\n      <td>TV-PG</td>\n      <td>90 min</td>\n      <td>children&amp;familymovies, comedies</td>\n      <td>before planning an awesome wedding for his gra...</td>\n    </tr>\n    <tr>\n      <th>1</th>\n      <td>80117401</td>\n      <td>movie</td>\n      <td>Jandino: Whatever it Takes</td>\n      <td></td>\n      <td>jandinoasporaat</td>\n      <td>unitedkingdom</td>\n      <td>September 9, 2016</td>\n      <td>2016</td>\n      <td>TV-MA</td>\n      <td>94 min</td>\n      <td>stand-upcomedy</td>\n      <td>jandino asporaat riffs on the challenges of ra...</td>\n    </tr>\n    <tr>\n      <th>2</th>\n      <td>70234439</td>\n      <td>tvshow</td>\n      <td>Transformers Prime</td>\n      <td></td>\n      <td>petercullen, sumaleemontano, frankwelker, jeff...</td>\n      <td>unitedstates</td>\n      <td>September 8, 2018</td>\n      <td>2013</td>\n      <td>TV-Y7-FV</td>\n      <td>1 Season</td>\n      <td>kids'tv</td>\n      <td>with the help of three human allies, the autob...</td>\n    </tr>\n    <tr>\n      <th>3</th>\n      <td>80058654</td>\n      <td>tvshow</td>\n      <td>Transformers: Robots in Disguise</td>\n      <td></td>\n      <td>willfriedle, darrencriss, constancezimmer, kha...</td>\n      <td>unitedstates</td>\n      <td>September 8, 2018</td>\n      <td>2016</td>\n      <td>TV-Y7</td>\n      <td>1 Season</td>\n      <td>kids'tv</td>\n      <td>when a prison ship crash unleashes hundreds of...</td>\n    </tr>\n    <tr>\n      <th>4</th>\n      <td>80125979</td>\n      <td>movie</td>\n      <td>#realityhigh</td>\n      <td>fernandolebrija</td>\n      <td>nestacooper, katewalsh, johnmichaelhiggins, ke...</td>\n      <td>unitedstates</td>\n      <td>September 8, 2017</td>\n      <td>2017</td>\n      <td>TV-14</td>\n      <td>99 min</td>\n      <td>comedies</td>\n      <td>when nerdy high schooler dani finally attracts...</td>\n    </tr>\n  </tbody>\n</table>\n</div>"
     },
     "execution_count": 24,
     "metadata": {},
     "output_type": "execute_result"
    }
   ],
   "source": [
    "raw_data.head()"
   ],
   "metadata": {
    "collapsed": false,
    "pycharm": {
     "name": "#%%\n"
    }
   }
  },
  {
   "cell_type": "code",
   "execution_count": 25,
   "outputs": [],
   "source": [
    "import string\n",
    "# Delete all punctuation\n",
    "raw_data['cast'] = [row.translate(str.maketrans(\"\",\"\", string.punctuation)) for row in raw_data['cast']]\n",
    "raw_data['listed_in'] = [row.translate(str.maketrans(\"\",\"\", string.punctuation)) for row in raw_data['listed_in']]\n",
    "raw_data['director'] = [row.translate(str.maketrans(\"\",\"\", string.punctuation)) for row in raw_data['director']]\n",
    "raw_data['country'] = [row.translate(str.maketrans(\"\",\"\", string.punctuation)) for row in raw_data['country']]\n",
    "raw_data['rating'] = [row.translate(str.maketrans(\"\",\"\", string.punctuation)) for row in raw_data['rating']]"
   ],
   "metadata": {
    "collapsed": false,
    "pycharm": {
     "name": "#%%\n"
    }
   }
  },
  {
   "cell_type": "code",
   "execution_count": 26,
   "outputs": [
    {
     "name": "stderr",
     "output_type": "stream",
     "text": [
      "/home/sotpak/anaconda3/lib/python3.7/site-packages/ipykernel_launcher.py:5: SettingWithCopyWarning: \n",
      "A value is trying to be set on a copy of a slice from a DataFrame.\n",
      "Try using .loc[row_indexer,col_indexer] = value instead\n",
      "\n",
      "See the caveats in the documentation: https://pandas.pydata.org/pandas-docs/stable/user_guide/indexing.html#returning-a-view-versus-a-copy\n",
      "  \"\"\"\n"
     ]
    }
   ],
   "source": [
    "# create net BoW columns (genre and team)\n",
    "raw_data['ganre']  = raw_data['type'] +' ' +  raw_data['listed_in']+ ' ' + raw_data['rating']\n",
    "raw_data['team']  = raw_data['director'] + ' ' + raw_data['cast']\n",
    "final_data = raw_data[['show_id','title','description', 'team', 'ganre','country']]\n",
    "final_data['BoW_all'] = final_data['country']+' '+final_data['description']+' '+final_data['team']+' '+final_data['ganre']\n",
    "\n"
   ],
   "metadata": {
    "collapsed": false,
    "pycharm": {
     "name": "#%%\n"
    }
   }
  },
  {
   "cell_type": "code",
   "execution_count": 27,
   "outputs": [],
   "source": [
    "from sklearn.feature_extraction.text import CountVectorizer,TfidfVectorizer\n",
    "\n",
    "\n",
    "tfidf_vectorizer = TfidfVectorizer()\n",
    "countvector= CountVectorizer()\n",
    "description_matrix = tfidf_vectorizer.fit_transform(raw_data['description'])\n",
    "ganre_matrix = countvector.fit_transform(final_data['team'])\n",
    "team_matrix = countvector.fit_transform(final_data['ganre'])\n",
    "country_matrix = countvector.fit_transform(final_data['country'])"
   ],
   "metadata": {
    "collapsed": false,
    "pycharm": {
     "name": "#%%\n"
    }
   }
  },
  {
   "cell_type": "code",
   "execution_count": 28,
   "outputs": [],
   "source": [
    "all_matrix = countvector.fit_transform(final_data['BoW_all'])\n",
    "indices = pd.Series(final_data['title'])"
   ],
   "metadata": {
    "collapsed": false,
    "pycharm": {
     "name": "#%%\n"
    }
   }
  },
  {
   "cell_type": "code",
   "execution_count": 29,
   "outputs": [],
   "source": [
    "# generating the cosine similarity matrix\n",
    "from sklearn.metrics.pairwise import cosine_similarity\n",
    "description_sim = cosine_similarity(description_matrix, description_matrix)\n",
    "ganre_sim = cosine_similarity(ganre_matrix, ganre_matrix)\n",
    "team_sim = cosine_similarity(team_matrix, team_matrix)\n",
    "country_sim = cosine_similarity(country_matrix,country_matrix)\n",
    "\n",
    "all_sim = cosine_similarity(all_matrix,all_matrix)"
   ],
   "metadata": {
    "collapsed": false,
    "pycharm": {
     "name": "#%%\n"
    }
   }
  },
  {
   "cell_type": "code",
   "execution_count": 30,
   "outputs": [],
   "source": [
    "cosine_sim  = 2*ganre_sim + 2*team_sim + description_sim + country_sim\n",
    "# we can configurate cooef to similarity table (in this case all coef for team and ganre will be 2x)"
   ],
   "metadata": {
    "collapsed": false,
    "pycharm": {
     "name": "#%%\n"
    }
   }
  },
  {
   "cell_type": "code",
   "execution_count": 31,
   "outputs": [],
   "source": [
    "from sklearn.preprocessing import MinMaxScaler\n",
    "scaler = MinMaxScaler()\n",
    "scaler.fit_transform(cosine_sim)\n",
    "scaled_cosim = scaler.transform(cosine_sim) #just scale the matrix in range 0-1\n",
    "\n",
    "cosine_sim = scaled_cosim"
   ],
   "metadata": {
    "collapsed": false,
    "pycharm": {
     "name": "#%%\n"
    }
   }
  },
  {
   "cell_type": "code",
   "execution_count": 32,
   "outputs": [],
   "source": [
    "cosine_distance = np.sqrt(1 - scaled_cosim) #calculate the distance matrix\n",
    "cosine_distance_pre = cosine_distance + cosine_distance.T - np.diag(np.diag(cosine_distance)) #same distance matrix but symmetric"
   ],
   "metadata": {
    "collapsed": false,
    "pycharm": {
     "name": "#%%\n"
    }
   }
  },
  {
   "cell_type": "code",
   "execution_count": 33,
   "outputs": [
    {
     "data": {
      "text/plain": "['John Carter',\n 'Scorpion King 5: Book of Souls',\n 'Black Panther',\n 'Dragonheart 3: The Sorcerer',\n 'Dragonheart: Battle for the Heartfire',\n 'Hulk Vs.',\n 'Avengers: Infinity War',\n 'Skyline',\n 'Superman Returns',\n 'Æon Flux']"
     },
     "execution_count": 33,
     "metadata": {},
     "output_type": "execute_result"
    }
   ],
   "source": [
    "def recommendations(title):\n",
    "    \n",
    "    recommended_movies = []\n",
    "    \n",
    "    # gettin the index of the movie that matches the title\n",
    "    idx = indices[indices == title].index[0]\n",
    "\n",
    "    # creating a Series with the similarity scores in descending order\n",
    "    score_series = pd.Series(cosine_distance[idx]).sort_values(ascending = True)\n",
    "\n",
    "    #print(score_series)\n",
    "    # getting the indexes of the 10 most similar movies\n",
    "    top_10_indexes = list(score_series.iloc[1:11].index)\n",
    "    # populating the list with the titles of the best 10 matching movies\n",
    "    for i in top_10_indexes:\n",
    "        recommended_movies.append(list(raw_data['title'])[i])\n",
    "        \n",
    "    return recommended_movies\n",
    "\n",
    "recommendations('Spider-Man 3')"
   ],
   "metadata": {
    "collapsed": false,
    "pycharm": {
     "name": "#%%\n"
    }
   }
  },
  {
   "cell_type": "code",
   "execution_count": 34,
   "outputs": [
    {
     "data": {
      "text/plain": "       show_id    type                                              title  \\\n160   80184771  tvshow           Inside Bill's Brain: Decoding Bill Gates   \n293   81060174   movie                             Bill Burr: Paper Tiger   \n1335  70174733   movie                               Bill Burr: Let It Go   \n2485  70245034   movie             Bill Burr: You People Are All the Same   \n3237  80133549   movie                       Bill Burr: Walk Your Way Out   \n3530  60031236   movie                                  Kill Bill: Vol. 1   \n3531  60032563   movie                                  Kill Bill: Vol. 2   \n3759  80119555   movie                             Blinky Bill: The Movie   \n3794  81002591   movie             Billy Graham: An Extraordinary Journey   \n4009  60003378   movie                                       Billy Elliot   \n4148  80142615   movie                                   One in a Billion   \n4160  80004478   movie             Bill Burr: I'm Sorry You Feel That Way   \n4243  81045989   movie                        Bill Hicks: One Night Stand   \n4244  81045990   movie                            Bill Hicks: Reflections   \n4245  70059483   movie                             Bill Hicks: Relentless   \n4246  80108207   movie                            Bill Hicks: Revelations   \n4247  70043231   movie                               Bill Hicks: Sane Man   \n4261  81031650   movie  The Bill Murray Stories: Life Lessons Learned ...   \n4498  81213153   movie                             Hope: One in a Billion   \n5305  80182411   movie                              Bill Nye: Science Guy   \n5310  80106337   movie  The 101-Year-Old Man Who Skipped Out on the Bi...   \n5500  80987611   movie                             A Billion Colour Story   \n5513  70115621   movie                                              Billu   \n5759  81183624  tvshow                                Billy on the Street   \n5817  80117748  tvshow                           Bill Nye Saves the World   \n\n                          director  \\\n160                                  \n293                     mikebinder   \n1335                shannonhartman   \n2485                      jaykaras   \n3237                      jaykaras   \n3530              quentintarantino   \n3531              quentintarantino   \n3759                   deanetaylor   \n3794  vondaharrell danielcamenisch   \n4009                 stephendaldry   \n4148                romangackowski   \n4160                      jaykaras   \n4243               johnfortenberry   \n4244                                 \n4245                    chrisbould   \n4246                    chrisbould   \n4247      kevinbooth davidjohndrow   \n4261                 tommyavallone   \n4498              brodjewemboendja   \n5305   jasonsussberg davidalvarado   \n5310    felixherngren månsherngren   \n5500     padmakumarnarasimhamurthy   \n5513                  priyadarshan   \n5759                                 \n5817                                 \n\n                                                   cast  \\\n160                                           billgates   \n293                                            billburr   \n1335                                           billburr   \n2485                                           billburr   \n3237                                           billburr   \n3530  umathurman lucyliu vivicaafox darylhannah davi...   \n3531  umathurman davidcarradine michaelmadsen darylh...   \n3759  ryankwanten rufussewell tonicollette robinmcle...   \n3794  billygraham jeffhoyt tombrokaw gretavansustere...   \n4009  jamiebell garylewis stuartwells billyfane coli...   \n4148  satnamsinghbhamara markcuban adamsilver vivekr...   \n4160                                           billburr   \n4243                                          billhicks   \n4244                               billhicks stevehicks   \n4245                                          billhicks   \n4246                                          billhicks   \n4247                                          billhicks   \n4261  tommyavallone billmurray joelmurray peterfarrelly   \n4498                                         giftngoepe   \n5305  billnye neildegrassetyson eugeniescott francis...   \n5310  robertgustafsson jenshultén carolineboulton co...   \n5500               dhruvapadmakumar gauravsharma vasuki   \n5513  irrfankhan shahrukhkhan laradutta rajpalyadav ...   \n5759                                       billyeichner   \n5817  billnye karliekloss derekmuller emilycalandrel...   \n\n                         country          date_added  release_year rating  \\\n160                 unitedstates  September 20, 2019          2019   TV14   \n293   unitedstates unitedkingdom  September 10, 2019          2019   TVMA   \n1335                unitedstates   November 10, 2017          2010     NR   \n2485                unitedstates       June 30, 2018          2012     NR   \n3237                unitedstates    January 31, 2017          2017   TVMA   \n3530          unitedstates japan     January 1, 2020          2003      R   \n3531                unitedstates     January 1, 2020          2004      R   \n3759      australia unitedstates    February 8, 2017          2015     PG   \n3794                unitedstates   February 28, 2019          2018   TVPG   \n4009        unitedkingdom france    February 1, 2019          2000      R   \n4148                unitedstates    December 6, 2016          2016   TVPG   \n4160                unitedstates    December 5, 2014          2014     NR   \n4243               unitedkingdom   December 31, 2018          1991   TVMA   \n4244                               December 31, 2018          2015   TVMA   \n4245               unitedkingdom   December 31, 2018          1992   TVMA   \n4246               unitedkingdom   December 31, 2018          1993   TVMA   \n4247                unitedstates   December 31, 2018          1989     NR   \n4261                unitedstates   December 31, 2018          2018   TVMA   \n4498    unitedstates southafrica   December 15, 2019          2017   TV14   \n5305                unitedstates      April 25, 2018          2017   TVPG   \n5310                      sweden      April 25, 2017          2016   TVMA   \n5500                       india       April 1, 2018          2016   TVPG   \n5513                       india       April 1, 2018          2009   TVPG   \n5759                unitedstates    November 1, 2019          2016   TV14   \n5817                unitedstates        May 11, 2018          2018   TV14   \n\n       duration                                       listed_in  \\\n160    1 Season                      docuseries sciencenaturetv   \n293      67 min                                   standupcomedy   \n1335     65 min                                   standupcomedy   \n2485     69 min                                   standupcomedy   \n3237     78 min                                   standupcomedy   \n3530    111 min                                 actionadventure   \n3531    137 min                                 actionadventure   \n3759     91 min                            childrenfamilymovies   \n3794     66 min                 documentaries faithspirituality   \n4009    110 min    dramas independentmovies internationalmovies   \n4148     70 min                      documentaries sportsmovies   \n4160     81 min                                   standupcomedy   \n4243     28 min                                   standupcomedy   \n4244     34 min                                   documentaries   \n4245     61 min                                   standupcomedy   \n4246     56 min                                   standupcomedy   \n4247     81 min                                   standupcomedy   \n4261     72 min                                   documentaries   \n4498     81 min  documentaries internationalmovies sportsmovies   \n5305     97 min                                   documentaries   \n5310    108 min                    comedies internationalmovies   \n5500    104 min    dramas independentmovies internationalmovies   \n5513    132 min                      dramas internationalmovies   \n5759  4 Seasons       internationaltvshows realitytv tvcomedies   \n5817  3 Seasons                          standupcomedytalkshows   \n\n                                            description  \\\n160   take a trip inside the mind of bill gates as t...   \n293   bill burr unloads on outrage culture, male fem...   \n1335  the musings of comedian bill burr are let loos...   \n2485  funnyman bill burr takes the stage to uncork a...   \n3237  no-nonsense comic bill burr takes the stage in...   \n3530  an assassin is shot by her ruthless employer, ...   \n3531  the bride has three left on her rampage list: ...   \n3759  happy koala blinky bill and some spunky pals t...   \n3794  this documentary recounts the life story of ev...   \n4009  when a boy trades boxing school for ballet les...   \n4148  follow the journey of satnam singh bhamara as ...   \n4160  bill burr escapes the zombie apocalypse, explo...   \n4243  bill hicks remembers a wild night in 1989 and ...   \n4244  this documentary about comedian bill hicks off...   \n4245  in one of his most iconic performances, late c...   \n4246  in his final recorded special, the iconoclasti...   \n4247  filmed in 1989 at a turning point in comedian ...   \n4261  this documentary highlights spontaneous encoun...   \n4498  the remarkable true story of gift ngoepe, the ...   \n5305  the dynamic, bow-tied host behind the young ad...   \n5310  in need of money, an eccentric ex-spy and his ...   \n5500  the curious child of idealistic interfaith par...   \n5513  an indian village is abuzz with news that a ma...   \n5759  comedian billy eichner sprints through new yor...   \n5817  emmy-winning host bill nye brings experts and ...   \n\n                                                  ganre  \\\n160              tvshow docuseries sciencenaturetv TV14   \n293                            movie standupcomedy TVMA   \n1335                             movie standupcomedy NR   \n2485                             movie standupcomedy NR   \n3237                           movie standupcomedy TVMA   \n3530                            movie actionadventure R   \n3531                            movie actionadventure R   \n3759                      movie childrenfamilymovies PG   \n3794         movie documentaries faithspirituality TVPG   \n4009  movie dramas independentmovies internationalmo...   \n4148              movie documentaries sportsmovies TVPG   \n4160                             movie standupcomedy NR   \n4243                           movie standupcomedy TVMA   \n4244                           movie documentaries TVMA   \n4245                           movie standupcomedy TVMA   \n4246                           movie standupcomedy TVMA   \n4247                             movie standupcomedy NR   \n4261                           movie documentaries TVMA   \n4498  movie documentaries internationalmovies sports...   \n5305                           movie documentaries TVPG   \n5310            movie comedies internationalmovies TVMA   \n5500  movie dramas independentmovies internationalmo...   \n5513              movie dramas internationalmovies TVPG   \n5759  tvshow internationaltvshows realitytv tvcomedi...   \n5817                 tvshow standupcomedytalkshows TV14   \n\n                                                   team  \n160                                           billgates  \n293                                 mikebinder billburr  \n1335                            shannonhartman billburr  \n2485                                  jaykaras billburr  \n3237                                  jaykaras billburr  \n3530  quentintarantino umathurman lucyliu vivicaafox...  \n3531  quentintarantino umathurman davidcarradine mic...  \n3759  deanetaylor ryankwanten rufussewell tonicollet...  \n3794  vondaharrell danielcamenisch billygraham jeffh...  \n4009  stephendaldry jamiebell garylewis stuartwells ...  \n4148  romangackowski satnamsinghbhamara markcuban ad...  \n4160                                  jaykaras billburr  \n4243                          johnfortenberry billhicks  \n4244                               billhicks stevehicks  \n4245                               chrisbould billhicks  \n4246                               chrisbould billhicks  \n4247                 kevinbooth davidjohndrow billhicks  \n4261  tommyavallone tommyavallone billmurray joelmur...  \n4498                        brodjewemboendja giftngoepe  \n5305  jasonsussberg davidalvarado billnye neildegras...  \n5310  felixherngren månsherngren robertgustafsson je...  \n5500  padmakumarnarasimhamurthy dhruvapadmakumar gau...  \n5513  priyadarshan irrfankhan shahrukhkhan laradutta...  \n5759                                       billyeichner  \n5817   billnye karliekloss derekmuller emilycalandre...  ",
      "text/html": "<div>\n<style scoped>\n    .dataframe tbody tr th:only-of-type {\n        vertical-align: middle;\n    }\n\n    .dataframe tbody tr th {\n        vertical-align: top;\n    }\n\n    .dataframe thead th {\n        text-align: right;\n    }\n</style>\n<table border=\"1\" class=\"dataframe\">\n  <thead>\n    <tr style=\"text-align: right;\">\n      <th></th>\n      <th>show_id</th>\n      <th>type</th>\n      <th>title</th>\n      <th>director</th>\n      <th>cast</th>\n      <th>country</th>\n      <th>date_added</th>\n      <th>release_year</th>\n      <th>rating</th>\n      <th>duration</th>\n      <th>listed_in</th>\n      <th>description</th>\n      <th>ganre</th>\n      <th>team</th>\n    </tr>\n  </thead>\n  <tbody>\n    <tr>\n      <th>160</th>\n      <td>80184771</td>\n      <td>tvshow</td>\n      <td>Inside Bill's Brain: Decoding Bill Gates</td>\n      <td></td>\n      <td>billgates</td>\n      <td>unitedstates</td>\n      <td>September 20, 2019</td>\n      <td>2019</td>\n      <td>TV14</td>\n      <td>1 Season</td>\n      <td>docuseries sciencenaturetv</td>\n      <td>take a trip inside the mind of bill gates as t...</td>\n      <td>tvshow docuseries sciencenaturetv TV14</td>\n      <td>billgates</td>\n    </tr>\n    <tr>\n      <th>293</th>\n      <td>81060174</td>\n      <td>movie</td>\n      <td>Bill Burr: Paper Tiger</td>\n      <td>mikebinder</td>\n      <td>billburr</td>\n      <td>unitedstates unitedkingdom</td>\n      <td>September 10, 2019</td>\n      <td>2019</td>\n      <td>TVMA</td>\n      <td>67 min</td>\n      <td>standupcomedy</td>\n      <td>bill burr unloads on outrage culture, male fem...</td>\n      <td>movie standupcomedy TVMA</td>\n      <td>mikebinder billburr</td>\n    </tr>\n    <tr>\n      <th>1335</th>\n      <td>70174733</td>\n      <td>movie</td>\n      <td>Bill Burr: Let It Go</td>\n      <td>shannonhartman</td>\n      <td>billburr</td>\n      <td>unitedstates</td>\n      <td>November 10, 2017</td>\n      <td>2010</td>\n      <td>NR</td>\n      <td>65 min</td>\n      <td>standupcomedy</td>\n      <td>the musings of comedian bill burr are let loos...</td>\n      <td>movie standupcomedy NR</td>\n      <td>shannonhartman billburr</td>\n    </tr>\n    <tr>\n      <th>2485</th>\n      <td>70245034</td>\n      <td>movie</td>\n      <td>Bill Burr: You People Are All the Same</td>\n      <td>jaykaras</td>\n      <td>billburr</td>\n      <td>unitedstates</td>\n      <td>June 30, 2018</td>\n      <td>2012</td>\n      <td>NR</td>\n      <td>69 min</td>\n      <td>standupcomedy</td>\n      <td>funnyman bill burr takes the stage to uncork a...</td>\n      <td>movie standupcomedy NR</td>\n      <td>jaykaras billburr</td>\n    </tr>\n    <tr>\n      <th>3237</th>\n      <td>80133549</td>\n      <td>movie</td>\n      <td>Bill Burr: Walk Your Way Out</td>\n      <td>jaykaras</td>\n      <td>billburr</td>\n      <td>unitedstates</td>\n      <td>January 31, 2017</td>\n      <td>2017</td>\n      <td>TVMA</td>\n      <td>78 min</td>\n      <td>standupcomedy</td>\n      <td>no-nonsense comic bill burr takes the stage in...</td>\n      <td>movie standupcomedy TVMA</td>\n      <td>jaykaras billburr</td>\n    </tr>\n    <tr>\n      <th>3530</th>\n      <td>60031236</td>\n      <td>movie</td>\n      <td>Kill Bill: Vol. 1</td>\n      <td>quentintarantino</td>\n      <td>umathurman lucyliu vivicaafox darylhannah davi...</td>\n      <td>unitedstates japan</td>\n      <td>January 1, 2020</td>\n      <td>2003</td>\n      <td>R</td>\n      <td>111 min</td>\n      <td>actionadventure</td>\n      <td>an assassin is shot by her ruthless employer, ...</td>\n      <td>movie actionadventure R</td>\n      <td>quentintarantino umathurman lucyliu vivicaafox...</td>\n    </tr>\n    <tr>\n      <th>3531</th>\n      <td>60032563</td>\n      <td>movie</td>\n      <td>Kill Bill: Vol. 2</td>\n      <td>quentintarantino</td>\n      <td>umathurman davidcarradine michaelmadsen darylh...</td>\n      <td>unitedstates</td>\n      <td>January 1, 2020</td>\n      <td>2004</td>\n      <td>R</td>\n      <td>137 min</td>\n      <td>actionadventure</td>\n      <td>the bride has three left on her rampage list: ...</td>\n      <td>movie actionadventure R</td>\n      <td>quentintarantino umathurman davidcarradine mic...</td>\n    </tr>\n    <tr>\n      <th>3759</th>\n      <td>80119555</td>\n      <td>movie</td>\n      <td>Blinky Bill: The Movie</td>\n      <td>deanetaylor</td>\n      <td>ryankwanten rufussewell tonicollette robinmcle...</td>\n      <td>australia unitedstates</td>\n      <td>February 8, 2017</td>\n      <td>2015</td>\n      <td>PG</td>\n      <td>91 min</td>\n      <td>childrenfamilymovies</td>\n      <td>happy koala blinky bill and some spunky pals t...</td>\n      <td>movie childrenfamilymovies PG</td>\n      <td>deanetaylor ryankwanten rufussewell tonicollet...</td>\n    </tr>\n    <tr>\n      <th>3794</th>\n      <td>81002591</td>\n      <td>movie</td>\n      <td>Billy Graham: An Extraordinary Journey</td>\n      <td>vondaharrell danielcamenisch</td>\n      <td>billygraham jeffhoyt tombrokaw gretavansustere...</td>\n      <td>unitedstates</td>\n      <td>February 28, 2019</td>\n      <td>2018</td>\n      <td>TVPG</td>\n      <td>66 min</td>\n      <td>documentaries faithspirituality</td>\n      <td>this documentary recounts the life story of ev...</td>\n      <td>movie documentaries faithspirituality TVPG</td>\n      <td>vondaharrell danielcamenisch billygraham jeffh...</td>\n    </tr>\n    <tr>\n      <th>4009</th>\n      <td>60003378</td>\n      <td>movie</td>\n      <td>Billy Elliot</td>\n      <td>stephendaldry</td>\n      <td>jamiebell garylewis stuartwells billyfane coli...</td>\n      <td>unitedkingdom france</td>\n      <td>February 1, 2019</td>\n      <td>2000</td>\n      <td>R</td>\n      <td>110 min</td>\n      <td>dramas independentmovies internationalmovies</td>\n      <td>when a boy trades boxing school for ballet les...</td>\n      <td>movie dramas independentmovies internationalmo...</td>\n      <td>stephendaldry jamiebell garylewis stuartwells ...</td>\n    </tr>\n    <tr>\n      <th>4148</th>\n      <td>80142615</td>\n      <td>movie</td>\n      <td>One in a Billion</td>\n      <td>romangackowski</td>\n      <td>satnamsinghbhamara markcuban adamsilver vivekr...</td>\n      <td>unitedstates</td>\n      <td>December 6, 2016</td>\n      <td>2016</td>\n      <td>TVPG</td>\n      <td>70 min</td>\n      <td>documentaries sportsmovies</td>\n      <td>follow the journey of satnam singh bhamara as ...</td>\n      <td>movie documentaries sportsmovies TVPG</td>\n      <td>romangackowski satnamsinghbhamara markcuban ad...</td>\n    </tr>\n    <tr>\n      <th>4160</th>\n      <td>80004478</td>\n      <td>movie</td>\n      <td>Bill Burr: I'm Sorry You Feel That Way</td>\n      <td>jaykaras</td>\n      <td>billburr</td>\n      <td>unitedstates</td>\n      <td>December 5, 2014</td>\n      <td>2014</td>\n      <td>NR</td>\n      <td>81 min</td>\n      <td>standupcomedy</td>\n      <td>bill burr escapes the zombie apocalypse, explo...</td>\n      <td>movie standupcomedy NR</td>\n      <td>jaykaras billburr</td>\n    </tr>\n    <tr>\n      <th>4243</th>\n      <td>81045989</td>\n      <td>movie</td>\n      <td>Bill Hicks: One Night Stand</td>\n      <td>johnfortenberry</td>\n      <td>billhicks</td>\n      <td>unitedkingdom</td>\n      <td>December 31, 2018</td>\n      <td>1991</td>\n      <td>TVMA</td>\n      <td>28 min</td>\n      <td>standupcomedy</td>\n      <td>bill hicks remembers a wild night in 1989 and ...</td>\n      <td>movie standupcomedy TVMA</td>\n      <td>johnfortenberry billhicks</td>\n    </tr>\n    <tr>\n      <th>4244</th>\n      <td>81045990</td>\n      <td>movie</td>\n      <td>Bill Hicks: Reflections</td>\n      <td></td>\n      <td>billhicks stevehicks</td>\n      <td></td>\n      <td>December 31, 2018</td>\n      <td>2015</td>\n      <td>TVMA</td>\n      <td>34 min</td>\n      <td>documentaries</td>\n      <td>this documentary about comedian bill hicks off...</td>\n      <td>movie documentaries TVMA</td>\n      <td>billhicks stevehicks</td>\n    </tr>\n    <tr>\n      <th>4245</th>\n      <td>70059483</td>\n      <td>movie</td>\n      <td>Bill Hicks: Relentless</td>\n      <td>chrisbould</td>\n      <td>billhicks</td>\n      <td>unitedkingdom</td>\n      <td>December 31, 2018</td>\n      <td>1992</td>\n      <td>TVMA</td>\n      <td>61 min</td>\n      <td>standupcomedy</td>\n      <td>in one of his most iconic performances, late c...</td>\n      <td>movie standupcomedy TVMA</td>\n      <td>chrisbould billhicks</td>\n    </tr>\n    <tr>\n      <th>4246</th>\n      <td>80108207</td>\n      <td>movie</td>\n      <td>Bill Hicks: Revelations</td>\n      <td>chrisbould</td>\n      <td>billhicks</td>\n      <td>unitedkingdom</td>\n      <td>December 31, 2018</td>\n      <td>1993</td>\n      <td>TVMA</td>\n      <td>56 min</td>\n      <td>standupcomedy</td>\n      <td>in his final recorded special, the iconoclasti...</td>\n      <td>movie standupcomedy TVMA</td>\n      <td>chrisbould billhicks</td>\n    </tr>\n    <tr>\n      <th>4247</th>\n      <td>70043231</td>\n      <td>movie</td>\n      <td>Bill Hicks: Sane Man</td>\n      <td>kevinbooth davidjohndrow</td>\n      <td>billhicks</td>\n      <td>unitedstates</td>\n      <td>December 31, 2018</td>\n      <td>1989</td>\n      <td>NR</td>\n      <td>81 min</td>\n      <td>standupcomedy</td>\n      <td>filmed in 1989 at a turning point in comedian ...</td>\n      <td>movie standupcomedy NR</td>\n      <td>kevinbooth davidjohndrow billhicks</td>\n    </tr>\n    <tr>\n      <th>4261</th>\n      <td>81031650</td>\n      <td>movie</td>\n      <td>The Bill Murray Stories: Life Lessons Learned ...</td>\n      <td>tommyavallone</td>\n      <td>tommyavallone billmurray joelmurray peterfarrelly</td>\n      <td>unitedstates</td>\n      <td>December 31, 2018</td>\n      <td>2018</td>\n      <td>TVMA</td>\n      <td>72 min</td>\n      <td>documentaries</td>\n      <td>this documentary highlights spontaneous encoun...</td>\n      <td>movie documentaries TVMA</td>\n      <td>tommyavallone tommyavallone billmurray joelmur...</td>\n    </tr>\n    <tr>\n      <th>4498</th>\n      <td>81213153</td>\n      <td>movie</td>\n      <td>Hope: One in a Billion</td>\n      <td>brodjewemboendja</td>\n      <td>giftngoepe</td>\n      <td>unitedstates southafrica</td>\n      <td>December 15, 2019</td>\n      <td>2017</td>\n      <td>TV14</td>\n      <td>81 min</td>\n      <td>documentaries internationalmovies sportsmovies</td>\n      <td>the remarkable true story of gift ngoepe, the ...</td>\n      <td>movie documentaries internationalmovies sports...</td>\n      <td>brodjewemboendja giftngoepe</td>\n    </tr>\n    <tr>\n      <th>5305</th>\n      <td>80182411</td>\n      <td>movie</td>\n      <td>Bill Nye: Science Guy</td>\n      <td>jasonsussberg davidalvarado</td>\n      <td>billnye neildegrassetyson eugeniescott francis...</td>\n      <td>unitedstates</td>\n      <td>April 25, 2018</td>\n      <td>2017</td>\n      <td>TVPG</td>\n      <td>97 min</td>\n      <td>documentaries</td>\n      <td>the dynamic, bow-tied host behind the young ad...</td>\n      <td>movie documentaries TVPG</td>\n      <td>jasonsussberg davidalvarado billnye neildegras...</td>\n    </tr>\n    <tr>\n      <th>5310</th>\n      <td>80106337</td>\n      <td>movie</td>\n      <td>The 101-Year-Old Man Who Skipped Out on the Bi...</td>\n      <td>felixherngren månsherngren</td>\n      <td>robertgustafsson jenshultén carolineboulton co...</td>\n      <td>sweden</td>\n      <td>April 25, 2017</td>\n      <td>2016</td>\n      <td>TVMA</td>\n      <td>108 min</td>\n      <td>comedies internationalmovies</td>\n      <td>in need of money, an eccentric ex-spy and his ...</td>\n      <td>movie comedies internationalmovies TVMA</td>\n      <td>felixherngren månsherngren robertgustafsson je...</td>\n    </tr>\n    <tr>\n      <th>5500</th>\n      <td>80987611</td>\n      <td>movie</td>\n      <td>A Billion Colour Story</td>\n      <td>padmakumarnarasimhamurthy</td>\n      <td>dhruvapadmakumar gauravsharma vasuki</td>\n      <td>india</td>\n      <td>April 1, 2018</td>\n      <td>2016</td>\n      <td>TVPG</td>\n      <td>104 min</td>\n      <td>dramas independentmovies internationalmovies</td>\n      <td>the curious child of idealistic interfaith par...</td>\n      <td>movie dramas independentmovies internationalmo...</td>\n      <td>padmakumarnarasimhamurthy dhruvapadmakumar gau...</td>\n    </tr>\n    <tr>\n      <th>5513</th>\n      <td>70115621</td>\n      <td>movie</td>\n      <td>Billu</td>\n      <td>priyadarshan</td>\n      <td>irrfankhan shahrukhkhan laradutta rajpalyadav ...</td>\n      <td>india</td>\n      <td>April 1, 2018</td>\n      <td>2009</td>\n      <td>TVPG</td>\n      <td>132 min</td>\n      <td>dramas internationalmovies</td>\n      <td>an indian village is abuzz with news that a ma...</td>\n      <td>movie dramas internationalmovies TVPG</td>\n      <td>priyadarshan irrfankhan shahrukhkhan laradutta...</td>\n    </tr>\n    <tr>\n      <th>5759</th>\n      <td>81183624</td>\n      <td>tvshow</td>\n      <td>Billy on the Street</td>\n      <td></td>\n      <td>billyeichner</td>\n      <td>unitedstates</td>\n      <td>November 1, 2019</td>\n      <td>2016</td>\n      <td>TV14</td>\n      <td>4 Seasons</td>\n      <td>internationaltvshows realitytv tvcomedies</td>\n      <td>comedian billy eichner sprints through new yor...</td>\n      <td>tvshow internationaltvshows realitytv tvcomedi...</td>\n      <td>billyeichner</td>\n    </tr>\n    <tr>\n      <th>5817</th>\n      <td>80117748</td>\n      <td>tvshow</td>\n      <td>Bill Nye Saves the World</td>\n      <td></td>\n      <td>billnye karliekloss derekmuller emilycalandrel...</td>\n      <td>unitedstates</td>\n      <td>May 11, 2018</td>\n      <td>2018</td>\n      <td>TV14</td>\n      <td>3 Seasons</td>\n      <td>standupcomedytalkshows</td>\n      <td>emmy-winning host bill nye brings experts and ...</td>\n      <td>tvshow standupcomedytalkshows TV14</td>\n      <td>billnye karliekloss derekmuller emilycalandre...</td>\n    </tr>\n  </tbody>\n</table>\n</div>"
     },
     "execution_count": 34,
     "metadata": {},
     "output_type": "execute_result"
    }
   ],
   "source": [
    "\n",
    "#######################\n",
    "\n",
    "# quick find function\n",
    "filt = raw_data['title'].str.find('Bill')>=0\n",
    "raw_data.loc[filt]\n"
   ],
   "metadata": {
    "collapsed": false,
    "pycharm": {
     "name": "#%%\n"
    }
   }
  },
  {
   "cell_type": "code",
   "execution_count": 35,
   "outputs": [],
   "source": [
    "np.save('app/static/npy/cosine_sim.npy',cosine_distance) #save cosine for server"
   ],
   "metadata": {
    "collapsed": false,
    "pycharm": {
     "name": "#%%\n"
    }
   }
  },
  {
   "cell_type": "code",
   "execution_count": 36,
   "outputs": [],
   "source": [
    "#create title file for autocompleting in frontend (server)\n",
    "title_array = []\n",
    "for index, i in raw_data.iterrows():\n",
    "    title = i['title']\n",
    "    title = title.replace(\" &\", \"\")\n",
    "    release_year = i['release_year']\n",
    "    data = title + \" (\" + str(release_year)+ \")\"\n",
    "    title_array.append(data)\n",
    "\n",
    "data = pd.DataFrame(title_array)\n",
    "\n",
    "data.to_csv('app/static/posters/titles.csv', index= False, header=False)"
   ],
   "metadata": {
    "collapsed": false,
    "pycharm": {
     "name": "#%%\n"
    }
   }
  },
  {
   "cell_type": "code",
   "execution_count": null,
   "outputs": [],
   "source": [],
   "metadata": {
    "collapsed": false,
    "pycharm": {
     "name": "#%%\n"
    }
   }
  }
 ],
 "metadata": {
  "kernelspec": {
   "display_name": "Python 3",
   "language": "python",
   "name": "python3"
  },
  "language_info": {
   "codemirror_mode": {
    "name": "ipython",
    "version": 3
   },
   "file_extension": ".py",
   "mimetype": "text/x-python",
   "name": "python",
   "nbconvert_exporter": "python",
   "pygments_lexer": "ipython3",
   "version": "3.7.9"
  }
 },
 "nbformat": 4,
 "nbformat_minor": 4
}